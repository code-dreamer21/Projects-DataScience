{
 "cells": [
  {
   "cell_type": "code",
   "execution_count": 165,
   "metadata": {},
   "outputs": [],
   "source": [
    "import pandas as pd\n",
    "import numpy as np\n",
    "import seaborn as sns\n",
    "from sklearn.model_selection import train_test_split\n"
   ]
  },
  {
   "cell_type": "code",
   "execution_count": 166,
   "metadata": {},
   "outputs": [
    {
     "data": {
      "text/plain": [
       "'C:\\\\Users\\\\Sristi\\\\Documents\\\\R\\\\data'"
      ]
     },
     "execution_count": 166,
     "metadata": {},
     "output_type": "execute_result"
    }
   ],
   "source": [
    "import os\n",
    "os.chdir(\"C:/Users/Sristi/Documents/R/data\")\n",
    "os.getcwd()"
   ]
  },
  {
   "cell_type": "code",
   "execution_count": 167,
   "metadata": {},
   "outputs": [
    {
     "data": {
      "text/html": [
       "<div>\n",
       "<style scoped>\n",
       "    .dataframe tbody tr th:only-of-type {\n",
       "        vertical-align: middle;\n",
       "    }\n",
       "\n",
       "    .dataframe tbody tr th {\n",
       "        vertical-align: top;\n",
       "    }\n",
       "\n",
       "    .dataframe thead th {\n",
       "        text-align: right;\n",
       "    }\n",
       "</style>\n",
       "<table border=\"1\" class=\"dataframe\">\n",
       "  <thead>\n",
       "    <tr style=\"text-align: right;\">\n",
       "      <th></th>\n",
       "      <th>mpg</th>\n",
       "      <th>cylinders</th>\n",
       "      <th>displacement</th>\n",
       "      <th>horsepower</th>\n",
       "      <th>weight</th>\n",
       "      <th>acceleration</th>\n",
       "      <th>model_year</th>\n",
       "      <th>origin</th>\n",
       "      <th>name</th>\n",
       "    </tr>\n",
       "  </thead>\n",
       "  <tbody>\n",
       "    <tr>\n",
       "      <td>0</td>\n",
       "      <td>18.0</td>\n",
       "      <td>8</td>\n",
       "      <td>307.0</td>\n",
       "      <td>130</td>\n",
       "      <td>3504</td>\n",
       "      <td>12.0</td>\n",
       "      <td>70</td>\n",
       "      <td>1</td>\n",
       "      <td>chevrolet chevelle malibu</td>\n",
       "    </tr>\n",
       "    <tr>\n",
       "      <td>1</td>\n",
       "      <td>15.0</td>\n",
       "      <td>8</td>\n",
       "      <td>350.0</td>\n",
       "      <td>165</td>\n",
       "      <td>3693</td>\n",
       "      <td>11.5</td>\n",
       "      <td>70</td>\n",
       "      <td>1</td>\n",
       "      <td>buick skylark 320</td>\n",
       "    </tr>\n",
       "    <tr>\n",
       "      <td>2</td>\n",
       "      <td>18.0</td>\n",
       "      <td>8</td>\n",
       "      <td>318.0</td>\n",
       "      <td>150</td>\n",
       "      <td>3436</td>\n",
       "      <td>11.0</td>\n",
       "      <td>70</td>\n",
       "      <td>1</td>\n",
       "      <td>plymouth satellite</td>\n",
       "    </tr>\n",
       "    <tr>\n",
       "      <td>3</td>\n",
       "      <td>16.0</td>\n",
       "      <td>8</td>\n",
       "      <td>304.0</td>\n",
       "      <td>150</td>\n",
       "      <td>3433</td>\n",
       "      <td>12.0</td>\n",
       "      <td>70</td>\n",
       "      <td>1</td>\n",
       "      <td>amc rebel sst</td>\n",
       "    </tr>\n",
       "    <tr>\n",
       "      <td>4</td>\n",
       "      <td>17.0</td>\n",
       "      <td>8</td>\n",
       "      <td>302.0</td>\n",
       "      <td>140</td>\n",
       "      <td>3449</td>\n",
       "      <td>10.5</td>\n",
       "      <td>70</td>\n",
       "      <td>1</td>\n",
       "      <td>ford torino</td>\n",
       "    </tr>\n",
       "    <tr>\n",
       "      <td>...</td>\n",
       "      <td>...</td>\n",
       "      <td>...</td>\n",
       "      <td>...</td>\n",
       "      <td>...</td>\n",
       "      <td>...</td>\n",
       "      <td>...</td>\n",
       "      <td>...</td>\n",
       "      <td>...</td>\n",
       "      <td>...</td>\n",
       "    </tr>\n",
       "    <tr>\n",
       "      <td>393</td>\n",
       "      <td>27.0</td>\n",
       "      <td>4</td>\n",
       "      <td>140.0</td>\n",
       "      <td>86</td>\n",
       "      <td>2790</td>\n",
       "      <td>15.6</td>\n",
       "      <td>82</td>\n",
       "      <td>1</td>\n",
       "      <td>ford mustang gl</td>\n",
       "    </tr>\n",
       "    <tr>\n",
       "      <td>394</td>\n",
       "      <td>44.0</td>\n",
       "      <td>4</td>\n",
       "      <td>97.0</td>\n",
       "      <td>52</td>\n",
       "      <td>2130</td>\n",
       "      <td>24.6</td>\n",
       "      <td>82</td>\n",
       "      <td>2</td>\n",
       "      <td>vw pickup</td>\n",
       "    </tr>\n",
       "    <tr>\n",
       "      <td>395</td>\n",
       "      <td>32.0</td>\n",
       "      <td>4</td>\n",
       "      <td>135.0</td>\n",
       "      <td>84</td>\n",
       "      <td>2295</td>\n",
       "      <td>11.6</td>\n",
       "      <td>82</td>\n",
       "      <td>1</td>\n",
       "      <td>dodge rampage</td>\n",
       "    </tr>\n",
       "    <tr>\n",
       "      <td>396</td>\n",
       "      <td>28.0</td>\n",
       "      <td>4</td>\n",
       "      <td>120.0</td>\n",
       "      <td>79</td>\n",
       "      <td>2625</td>\n",
       "      <td>18.6</td>\n",
       "      <td>82</td>\n",
       "      <td>1</td>\n",
       "      <td>ford ranger</td>\n",
       "    </tr>\n",
       "    <tr>\n",
       "      <td>397</td>\n",
       "      <td>31.0</td>\n",
       "      <td>4</td>\n",
       "      <td>119.0</td>\n",
       "      <td>82</td>\n",
       "      <td>2720</td>\n",
       "      <td>19.4</td>\n",
       "      <td>82</td>\n",
       "      <td>1</td>\n",
       "      <td>chevy s-10</td>\n",
       "    </tr>\n",
       "  </tbody>\n",
       "</table>\n",
       "<p>398 rows × 9 columns</p>\n",
       "</div>"
      ],
      "text/plain": [
       "      mpg  cylinders  displacement  horsepower  weight  acceleration  \\\n",
       "0    18.0          8         307.0         130    3504          12.0   \n",
       "1    15.0          8         350.0         165    3693          11.5   \n",
       "2    18.0          8         318.0         150    3436          11.0   \n",
       "3    16.0          8         304.0         150    3433          12.0   \n",
       "4    17.0          8         302.0         140    3449          10.5   \n",
       "..    ...        ...           ...         ...     ...           ...   \n",
       "393  27.0          4         140.0          86    2790          15.6   \n",
       "394  44.0          4          97.0          52    2130          24.6   \n",
       "395  32.0          4         135.0          84    2295          11.6   \n",
       "396  28.0          4         120.0          79    2625          18.6   \n",
       "397  31.0          4         119.0          82    2720          19.4   \n",
       "\n",
       "     model_year  origin                       name  \n",
       "0            70       1  chevrolet chevelle malibu  \n",
       "1            70       1          buick skylark 320  \n",
       "2            70       1         plymouth satellite  \n",
       "3            70       1              amc rebel sst  \n",
       "4            70       1                ford torino  \n",
       "..          ...     ...                        ...  \n",
       "393          82       1            ford mustang gl  \n",
       "394          82       2                  vw pickup  \n",
       "395          82       1              dodge rampage  \n",
       "396          82       1                ford ranger  \n",
       "397          82       1                 chevy s-10  \n",
       "\n",
       "[398 rows x 9 columns]"
      ]
     },
     "execution_count": 167,
     "metadata": {},
     "output_type": "execute_result"
    }
   ],
   "source": [
    "df_auto=pd.read_csv(\"Auto_MPG.csv\", sep=\",\")\n",
    "df_auto"
   ]
  },
  {
   "cell_type": "code",
   "execution_count": 168,
   "metadata": {},
   "outputs": [],
   "source": [
    "df_auto.drop(['name'],axis=1,inplace=True)"
   ]
  },
  {
   "cell_type": "code",
   "execution_count": 169,
   "metadata": {},
   "outputs": [
    {
     "data": {
      "text/html": [
       "<div>\n",
       "<style scoped>\n",
       "    .dataframe tbody tr th:only-of-type {\n",
       "        vertical-align: middle;\n",
       "    }\n",
       "\n",
       "    .dataframe tbody tr th {\n",
       "        vertical-align: top;\n",
       "    }\n",
       "\n",
       "    .dataframe thead th {\n",
       "        text-align: right;\n",
       "    }\n",
       "</style>\n",
       "<table border=\"1\" class=\"dataframe\">\n",
       "  <thead>\n",
       "    <tr style=\"text-align: right;\">\n",
       "      <th></th>\n",
       "      <th>mpg</th>\n",
       "      <th>cylinders</th>\n",
       "      <th>displacement</th>\n",
       "      <th>horsepower</th>\n",
       "      <th>weight</th>\n",
       "      <th>acceleration</th>\n",
       "      <th>model_year</th>\n",
       "      <th>origin</th>\n",
       "    </tr>\n",
       "  </thead>\n",
       "  <tbody>\n",
       "    <tr>\n",
       "      <td>0</td>\n",
       "      <td>18.0</td>\n",
       "      <td>8</td>\n",
       "      <td>307.0</td>\n",
       "      <td>130</td>\n",
       "      <td>3504</td>\n",
       "      <td>12.0</td>\n",
       "      <td>70</td>\n",
       "      <td>1</td>\n",
       "    </tr>\n",
       "    <tr>\n",
       "      <td>1</td>\n",
       "      <td>15.0</td>\n",
       "      <td>8</td>\n",
       "      <td>350.0</td>\n",
       "      <td>165</td>\n",
       "      <td>3693</td>\n",
       "      <td>11.5</td>\n",
       "      <td>70</td>\n",
       "      <td>1</td>\n",
       "    </tr>\n",
       "    <tr>\n",
       "      <td>2</td>\n",
       "      <td>18.0</td>\n",
       "      <td>8</td>\n",
       "      <td>318.0</td>\n",
       "      <td>150</td>\n",
       "      <td>3436</td>\n",
       "      <td>11.0</td>\n",
       "      <td>70</td>\n",
       "      <td>1</td>\n",
       "    </tr>\n",
       "    <tr>\n",
       "      <td>3</td>\n",
       "      <td>16.0</td>\n",
       "      <td>8</td>\n",
       "      <td>304.0</td>\n",
       "      <td>150</td>\n",
       "      <td>3433</td>\n",
       "      <td>12.0</td>\n",
       "      <td>70</td>\n",
       "      <td>1</td>\n",
       "    </tr>\n",
       "    <tr>\n",
       "      <td>4</td>\n",
       "      <td>17.0</td>\n",
       "      <td>8</td>\n",
       "      <td>302.0</td>\n",
       "      <td>140</td>\n",
       "      <td>3449</td>\n",
       "      <td>10.5</td>\n",
       "      <td>70</td>\n",
       "      <td>1</td>\n",
       "    </tr>\n",
       "    <tr>\n",
       "      <td>...</td>\n",
       "      <td>...</td>\n",
       "      <td>...</td>\n",
       "      <td>...</td>\n",
       "      <td>...</td>\n",
       "      <td>...</td>\n",
       "      <td>...</td>\n",
       "      <td>...</td>\n",
       "      <td>...</td>\n",
       "    </tr>\n",
       "    <tr>\n",
       "      <td>393</td>\n",
       "      <td>27.0</td>\n",
       "      <td>4</td>\n",
       "      <td>140.0</td>\n",
       "      <td>86</td>\n",
       "      <td>2790</td>\n",
       "      <td>15.6</td>\n",
       "      <td>82</td>\n",
       "      <td>1</td>\n",
       "    </tr>\n",
       "    <tr>\n",
       "      <td>394</td>\n",
       "      <td>44.0</td>\n",
       "      <td>4</td>\n",
       "      <td>97.0</td>\n",
       "      <td>52</td>\n",
       "      <td>2130</td>\n",
       "      <td>24.6</td>\n",
       "      <td>82</td>\n",
       "      <td>2</td>\n",
       "    </tr>\n",
       "    <tr>\n",
       "      <td>395</td>\n",
       "      <td>32.0</td>\n",
       "      <td>4</td>\n",
       "      <td>135.0</td>\n",
       "      <td>84</td>\n",
       "      <td>2295</td>\n",
       "      <td>11.6</td>\n",
       "      <td>82</td>\n",
       "      <td>1</td>\n",
       "    </tr>\n",
       "    <tr>\n",
       "      <td>396</td>\n",
       "      <td>28.0</td>\n",
       "      <td>4</td>\n",
       "      <td>120.0</td>\n",
       "      <td>79</td>\n",
       "      <td>2625</td>\n",
       "      <td>18.6</td>\n",
       "      <td>82</td>\n",
       "      <td>1</td>\n",
       "    </tr>\n",
       "    <tr>\n",
       "      <td>397</td>\n",
       "      <td>31.0</td>\n",
       "      <td>4</td>\n",
       "      <td>119.0</td>\n",
       "      <td>82</td>\n",
       "      <td>2720</td>\n",
       "      <td>19.4</td>\n",
       "      <td>82</td>\n",
       "      <td>1</td>\n",
       "    </tr>\n",
       "  </tbody>\n",
       "</table>\n",
       "<p>398 rows × 8 columns</p>\n",
       "</div>"
      ],
      "text/plain": [
       "      mpg  cylinders  displacement  horsepower  weight  acceleration  \\\n",
       "0    18.0          8         307.0         130    3504          12.0   \n",
       "1    15.0          8         350.0         165    3693          11.5   \n",
       "2    18.0          8         318.0         150    3436          11.0   \n",
       "3    16.0          8         304.0         150    3433          12.0   \n",
       "4    17.0          8         302.0         140    3449          10.5   \n",
       "..    ...        ...           ...         ...     ...           ...   \n",
       "393  27.0          4         140.0          86    2790          15.6   \n",
       "394  44.0          4          97.0          52    2130          24.6   \n",
       "395  32.0          4         135.0          84    2295          11.6   \n",
       "396  28.0          4         120.0          79    2625          18.6   \n",
       "397  31.0          4         119.0          82    2720          19.4   \n",
       "\n",
       "     model_year  origin  \n",
       "0            70       1  \n",
       "1            70       1  \n",
       "2            70       1  \n",
       "3            70       1  \n",
       "4            70       1  \n",
       "..          ...     ...  \n",
       "393          82       1  \n",
       "394          82       2  \n",
       "395          82       1  \n",
       "396          82       1  \n",
       "397          82       1  \n",
       "\n",
       "[398 rows x 8 columns]"
      ]
     },
     "execution_count": 169,
     "metadata": {},
     "output_type": "execute_result"
    }
   ],
   "source": [
    "df_auto"
   ]
  },
  {
   "cell_type": "code",
   "execution_count": null,
   "metadata": {},
   "outputs": [],
   "source": []
  },
  {
   "cell_type": "code",
   "execution_count": 170,
   "metadata": {},
   "outputs": [
    {
     "data": {
      "text/plain": [
       "<matplotlib.axes._subplots.AxesSubplot at 0x3e082653c8>"
      ]
     },
     "execution_count": 170,
     "metadata": {},
     "output_type": "execute_result"
    },
    {
     "data": {
      "image/png": "[encoded data removed]",
      "text/plain": [
       "<Figure size 432x288 with 2 Axes>"
      ]
     },
     "metadata": {
      "needs_background": "light"
     },
     "output_type": "display_data"
    }
   ],
   "source": [
    "import seaborn as sns\n",
    "sns.heatmap(df_auto.isnull())\n",
    "#no null values"
   ]
  },
  {
   "cell_type": "code",
   "execution_count": 171,
   "metadata": {},
   "outputs": [
    {
     "data": {
      "text/html": [
       "<div>\n",
       "<style scoped>\n",
       "    .dataframe tbody tr th:only-of-type {\n",
       "        vertical-align: middle;\n",
       "    }\n",
       "\n",
       "    .dataframe tbody tr th {\n",
       "        vertical-align: top;\n",
       "    }\n",
       "\n",
       "    .dataframe thead th {\n",
       "        text-align: right;\n",
       "    }\n",
       "</style>\n",
       "<table border=\"1\" class=\"dataframe\">\n",
       "  <thead>\n",
       "    <tr style=\"text-align: right;\">\n",
       "      <th></th>\n",
       "      <th>cylinders</th>\n",
       "      <th>displacement</th>\n",
       "      <th>horsepower</th>\n",
       "      <th>weight</th>\n",
       "      <th>acceleration</th>\n",
       "      <th>model_year</th>\n",
       "      <th>origin</th>\n",
       "    </tr>\n",
       "  </thead>\n",
       "  <tbody>\n",
       "    <tr>\n",
       "      <td>0</td>\n",
       "      <td>8</td>\n",
       "      <td>307.0</td>\n",
       "      <td>130</td>\n",
       "      <td>3504</td>\n",
       "      <td>12.0</td>\n",
       "      <td>70</td>\n",
       "      <td>1</td>\n",
       "    </tr>\n",
       "    <tr>\n",
       "      <td>1</td>\n",
       "      <td>8</td>\n",
       "      <td>350.0</td>\n",
       "      <td>165</td>\n",
       "      <td>3693</td>\n",
       "      <td>11.5</td>\n",
       "      <td>70</td>\n",
       "      <td>1</td>\n",
       "    </tr>\n",
       "    <tr>\n",
       "      <td>2</td>\n",
       "      <td>8</td>\n",
       "      <td>318.0</td>\n",
       "      <td>150</td>\n",
       "      <td>3436</td>\n",
       "      <td>11.0</td>\n",
       "      <td>70</td>\n",
       "      <td>1</td>\n",
       "    </tr>\n",
       "    <tr>\n",
       "      <td>3</td>\n",
       "      <td>8</td>\n",
       "      <td>304.0</td>\n",
       "      <td>150</td>\n",
       "      <td>3433</td>\n",
       "      <td>12.0</td>\n",
       "      <td>70</td>\n",
       "      <td>1</td>\n",
       "    </tr>\n",
       "    <tr>\n",
       "      <td>4</td>\n",
       "      <td>8</td>\n",
       "      <td>302.0</td>\n",
       "      <td>140</td>\n",
       "      <td>3449</td>\n",
       "      <td>10.5</td>\n",
       "      <td>70</td>\n",
       "      <td>1</td>\n",
       "    </tr>\n",
       "    <tr>\n",
       "      <td>...</td>\n",
       "      <td>...</td>\n",
       "      <td>...</td>\n",
       "      <td>...</td>\n",
       "      <td>...</td>\n",
       "      <td>...</td>\n",
       "      <td>...</td>\n",
       "      <td>...</td>\n",
       "    </tr>\n",
       "    <tr>\n",
       "      <td>393</td>\n",
       "      <td>4</td>\n",
       "      <td>140.0</td>\n",
       "      <td>86</td>\n",
       "      <td>2790</td>\n",
       "      <td>15.6</td>\n",
       "      <td>82</td>\n",
       "      <td>1</td>\n",
       "    </tr>\n",
       "    <tr>\n",
       "      <td>394</td>\n",
       "      <td>4</td>\n",
       "      <td>97.0</td>\n",
       "      <td>52</td>\n",
       "      <td>2130</td>\n",
       "      <td>24.6</td>\n",
       "      <td>82</td>\n",
       "      <td>2</td>\n",
       "    </tr>\n",
       "    <tr>\n",
       "      <td>395</td>\n",
       "      <td>4</td>\n",
       "      <td>135.0</td>\n",
       "      <td>84</td>\n",
       "      <td>2295</td>\n",
       "      <td>11.6</td>\n",
       "      <td>82</td>\n",
       "      <td>1</td>\n",
       "    </tr>\n",
       "    <tr>\n",
       "      <td>396</td>\n",
       "      <td>4</td>\n",
       "      <td>120.0</td>\n",
       "      <td>79</td>\n",
       "      <td>2625</td>\n",
       "      <td>18.6</td>\n",
       "      <td>82</td>\n",
       "      <td>1</td>\n",
       "    </tr>\n",
       "    <tr>\n",
       "      <td>397</td>\n",
       "      <td>4</td>\n",
       "      <td>119.0</td>\n",
       "      <td>82</td>\n",
       "      <td>2720</td>\n",
       "      <td>19.4</td>\n",
       "      <td>82</td>\n",
       "      <td>1</td>\n",
       "    </tr>\n",
       "  </tbody>\n",
       "</table>\n",
       "<p>398 rows × 7 columns</p>\n",
       "</div>"
      ],
      "text/plain": [
       "     cylinders  displacement  horsepower  weight  acceleration  model_year  \\\n",
       "0            8         307.0         130    3504          12.0          70   \n",
       "1            8         350.0         165    3693          11.5          70   \n",
       "2            8         318.0         150    3436          11.0          70   \n",
       "3            8         304.0         150    3433          12.0          70   \n",
       "4            8         302.0         140    3449          10.5          70   \n",
       "..         ...           ...         ...     ...           ...         ...   \n",
       "393          4         140.0          86    2790          15.6          82   \n",
       "394          4          97.0          52    2130          24.6          82   \n",
       "395          4         135.0          84    2295          11.6          82   \n",
       "396          4         120.0          79    2625          18.6          82   \n",
       "397          4         119.0          82    2720          19.4          82   \n",
       "\n",
       "     origin  \n",
       "0         1  \n",
       "1         1  \n",
       "2         1  \n",
       "3         1  \n",
       "4         1  \n",
       "..      ...  \n",
       "393       1  \n",
       "394       2  \n",
       "395       1  \n",
       "396       1  \n",
       "397       1  \n",
       "\n",
       "[398 rows x 7 columns]"
      ]
     },
     "execution_count": 171,
     "metadata": {},
     "output_type": "execute_result"
    }
   ],
   "source": [
    "x=df_auto.iloc[:,1:8]\n",
    "x"
   ]
  },
  {
   "cell_type": "code",
   "execution_count": 172,
   "metadata": {},
   "outputs": [
    {
     "data": {
      "text/plain": [
       "0      18.0\n",
       "1      15.0\n",
       "2      18.0\n",
       "3      16.0\n",
       "4      17.0\n",
       "       ... \n",
       "393    27.0\n",
       "394    44.0\n",
       "395    32.0\n",
       "396    28.0\n",
       "397    31.0\n",
       "Name: mpg, Length: 398, dtype: float64"
      ]
     },
     "execution_count": 172,
     "metadata": {},
     "output_type": "execute_result"
    }
   ],
   "source": [
    "y=df_auto.iloc[:,0]\n",
    "y"
   ]
  },
  {
   "cell_type": "code",
   "execution_count": 173,
   "metadata": {},
   "outputs": [
    {
     "data": {
      "text/html": [
       "<div>\n",
       "<style scoped>\n",
       "    .dataframe tbody tr th:only-of-type {\n",
       "        vertical-align: middle;\n",
       "    }\n",
       "\n",
       "    .dataframe tbody tr th {\n",
       "        vertical-align: top;\n",
       "    }\n",
       "\n",
       "    .dataframe thead th {\n",
       "        text-align: right;\n",
       "    }\n",
       "</style>\n",
       "<table border=\"1\" class=\"dataframe\">\n",
       "  <thead>\n",
       "    <tr style=\"text-align: right;\">\n",
       "      <th></th>\n",
       "      <th>cylinders</th>\n",
       "      <th>displacement</th>\n",
       "      <th>horsepower</th>\n",
       "      <th>weight</th>\n",
       "      <th>acceleration</th>\n",
       "      <th>model_year</th>\n",
       "      <th>origin</th>\n",
       "      <th>mpg</th>\n",
       "    </tr>\n",
       "  </thead>\n",
       "  <tbody>\n",
       "    <tr>\n",
       "      <td>count</td>\n",
       "      <td>398.000000</td>\n",
       "      <td>398.000000</td>\n",
       "      <td>398.000000</td>\n",
       "      <td>398.000000</td>\n",
       "      <td>398.000000</td>\n",
       "      <td>398.000000</td>\n",
       "      <td>398.000000</td>\n",
       "      <td>398.000000</td>\n",
       "    </tr>\n",
       "    <tr>\n",
       "      <td>mean</td>\n",
       "      <td>5.454774</td>\n",
       "      <td>193.425879</td>\n",
       "      <td>104.115578</td>\n",
       "      <td>2970.424623</td>\n",
       "      <td>15.568090</td>\n",
       "      <td>76.010050</td>\n",
       "      <td>1.572864</td>\n",
       "      <td>23.514573</td>\n",
       "    </tr>\n",
       "    <tr>\n",
       "      <td>std</td>\n",
       "      <td>1.701004</td>\n",
       "      <td>104.269838</td>\n",
       "      <td>38.321479</td>\n",
       "      <td>846.841774</td>\n",
       "      <td>2.757689</td>\n",
       "      <td>3.697627</td>\n",
       "      <td>0.802055</td>\n",
       "      <td>7.815984</td>\n",
       "    </tr>\n",
       "    <tr>\n",
       "      <td>min</td>\n",
       "      <td>3.000000</td>\n",
       "      <td>68.000000</td>\n",
       "      <td>46.000000</td>\n",
       "      <td>1613.000000</td>\n",
       "      <td>8.000000</td>\n",
       "      <td>70.000000</td>\n",
       "      <td>1.000000</td>\n",
       "      <td>9.000000</td>\n",
       "    </tr>\n",
       "    <tr>\n",
       "      <td>25%</td>\n",
       "      <td>4.000000</td>\n",
       "      <td>104.250000</td>\n",
       "      <td>75.000000</td>\n",
       "      <td>2223.750000</td>\n",
       "      <td>13.825000</td>\n",
       "      <td>73.000000</td>\n",
       "      <td>1.000000</td>\n",
       "      <td>17.500000</td>\n",
       "    </tr>\n",
       "    <tr>\n",
       "      <td>50%</td>\n",
       "      <td>4.000000</td>\n",
       "      <td>148.500000</td>\n",
       "      <td>92.000000</td>\n",
       "      <td>2803.500000</td>\n",
       "      <td>15.500000</td>\n",
       "      <td>76.000000</td>\n",
       "      <td>1.000000</td>\n",
       "      <td>23.000000</td>\n",
       "    </tr>\n",
       "    <tr>\n",
       "      <td>75%</td>\n",
       "      <td>8.000000</td>\n",
       "      <td>262.000000</td>\n",
       "      <td>125.000000</td>\n",
       "      <td>3608.000000</td>\n",
       "      <td>17.175000</td>\n",
       "      <td>79.000000</td>\n",
       "      <td>2.000000</td>\n",
       "      <td>29.000000</td>\n",
       "    </tr>\n",
       "    <tr>\n",
       "      <td>max</td>\n",
       "      <td>8.000000</td>\n",
       "      <td>455.000000</td>\n",
       "      <td>230.000000</td>\n",
       "      <td>5140.000000</td>\n",
       "      <td>24.800000</td>\n",
       "      <td>82.000000</td>\n",
       "      <td>3.000000</td>\n",
       "      <td>46.600000</td>\n",
       "    </tr>\n",
       "  </tbody>\n",
       "</table>\n",
       "</div>"
      ],
      "text/plain": [
       "        cylinders  displacement  horsepower       weight  acceleration  \\\n",
       "count  398.000000    398.000000  398.000000   398.000000    398.000000   \n",
       "mean     5.454774    193.425879  104.115578  2970.424623     15.568090   \n",
       "std      1.701004    104.269838   38.321479   846.841774      2.757689   \n",
       "min      3.000000     68.000000   46.000000  1613.000000      8.000000   \n",
       "25%      4.000000    104.250000   75.000000  2223.750000     13.825000   \n",
       "50%      4.000000    148.500000   92.000000  2803.500000     15.500000   \n",
       "75%      8.000000    262.000000  125.000000  3608.000000     17.175000   \n",
       "max      8.000000    455.000000  230.000000  5140.000000     24.800000   \n",
       "\n",
       "       model_year      origin         mpg  \n",
       "count  398.000000  398.000000  398.000000  \n",
       "mean    76.010050    1.572864   23.514573  \n",
       "std      3.697627    0.802055    7.815984  \n",
       "min     70.000000    1.000000    9.000000  \n",
       "25%     73.000000    1.000000   17.500000  \n",
       "50%     76.000000    1.000000   23.000000  \n",
       "75%     79.000000    2.000000   29.000000  \n",
       "max     82.000000    3.000000   46.600000  "
      ]
     },
     "execution_count": 173,
     "metadata": {},
     "output_type": "execute_result"
    }
   ],
   "source": [
    "pd.concat([x,y],axis=1).describe()"
   ]
  },
  {
   "cell_type": "code",
   "execution_count": 174,
   "metadata": {},
   "outputs": [
    {
     "data": {
      "text/plain": [
       "<matplotlib.axes._subplots.AxesSubplot at 0x3e08342a48>"
      ]
     },
     "execution_count": 174,
     "metadata": {},
     "output_type": "execute_result"
    },
    {
     "data": {
      "image/png": "[encoded data removed]",
      "text/plain": [
       "<Figure size 432x288 with 1 Axes>"
      ]
     },
     "metadata": {
      "needs_background": "light"
     },
     "output_type": "display_data"
    }
   ],
   "source": [
    "df=pd.DataFrame(df_auto)\n",
    "df.plot.bar()"
   ]
  },
  {
   "cell_type": "code",
   "execution_count": null,
   "metadata": {},
   "outputs": [],
   "source": []
  },
  {
   "cell_type": "code",
   "execution_count": 175,
   "metadata": {},
   "outputs": [
    {
     "data": {
      "text/plain": [
       "array([[<matplotlib.axes._subplots.AxesSubplot object at 0x0000003E0AE8A948>,\n",
       "        <matplotlib.axes._subplots.AxesSubplot object at 0x0000003E0B055C08>,\n",
       "        <matplotlib.axes._subplots.AxesSubplot object at 0x0000003E0B257A48>],\n",
       "       [<matplotlib.axes._subplots.AxesSubplot object at 0x0000003E0B46D688>,\n",
       "        <matplotlib.axes._subplots.AxesSubplot object at 0x0000003E0BAD7288>,\n",
       "        <matplotlib.axes._subplots.AxesSubplot object at 0x0000003E0BB98688>],\n",
       "       [<matplotlib.axes._subplots.AxesSubplot object at 0x0000003E0B97B788>,\n",
       "        <matplotlib.axes._subplots.AxesSubplot object at 0x0000003E0B94B888>,\n",
       "        <matplotlib.axes._subplots.AxesSubplot object at 0x0000003E0B945888>]],\n",
       "      dtype=object)"
      ]
     },
     "execution_count": 175,
     "metadata": {},
     "output_type": "execute_result"
    },
    {
     "data": {
      "image/png": "[encoded data removed]",
      "text/plain": [
       "<Figure size 432x288 with 9 Axes>"
      ]
     },
     "metadata": {
      "needs_background": "light"
     },
     "output_type": "display_data"
    }
   ],
   "source": [
    "df_auto.hist(bins=60)"
   ]
  },
  {
   "cell_type": "code",
   "execution_count": 176,
   "metadata": {},
   "outputs": [
    {
     "data": {
      "text/plain": [
       "<matplotlib.axes._subplots.AxesSubplot at 0x3e0c2abc08>"
      ]
     },
     "execution_count": 176,
     "metadata": {},
     "output_type": "execute_result"
    },
    {
     "data": {
      "image/png": "[encoded data removed]",
      "text/plain": [
       "<Figure size 432x288 with 1 Axes>"
      ]
     },
     "metadata": {
      "needs_background": "light"
     },
     "output_type": "display_data"
    }
   ],
   "source": [
    "df_auto.plot.box()"
   ]
  },
  {
   "cell_type": "code",
   "execution_count": 177,
   "metadata": {},
   "outputs": [
    {
     "data": {
      "text/plain": [
       "<matplotlib.axes._subplots.AxesSubplot at 0x3e0c1d6988>"
      ]
     },
     "execution_count": 177,
     "metadata": {},
     "output_type": "execute_result"
    },
    {
     "data": {
      "image/png": "[encoded data removed]",
      "text/plain": [
       "<Figure size 432x288 with 1 Axes>"
      ]
     },
     "metadata": {
      "needs_background": "light"
     },
     "output_type": "display_data"
    }
   ],
   "source": [
    "df_auto.plot.area()"
   ]
  },
  {
   "cell_type": "code",
   "execution_count": 178,
   "metadata": {},
   "outputs": [],
   "source": [
    "from sklearn.model_selection import train_test_split\n",
    "from sklearn.metrics import mean_absolute_error\n",
    "from sklearn.metrics import mean_squared_error\n",
    "from sklearn.metrics import r2_score\n",
    "def maxr2_score(regr,x,y):\n",
    "    max_r_score=0\n",
    "    for r_state in range(42,101):\n",
    "        x_train, x_test, y_train, y_test = train_test_split(x, y, random_state = r_state,test_size=0.20)\n",
    "        regr.fit(x_train,y_train)\n",
    "        y_pred = regr.predict(x_test)\n",
    "        r2_scr=r2_score(y_test,y_pred)\n",
    "        print(\"r2_score corresponding to random state: \",r_state,\" is: \",r2_scr)\n",
    "        if r2_scr>max_r_score:\n",
    "            max_r_score=r2_scr\n",
    "            final_r_state=r_state\n",
    "        \n",
    "    print()\n",
    "    print()\n",
    "    print(\"max r2 score corresponding to \",final_r_state,\" is \",max_r_score)\n",
    "    return final_r_state"
   ]
  },
  {
   "cell_type": "code",
   "execution_count": 179,
   "metadata": {},
   "outputs": [],
   "source": [
    "from sklearn.model_selection import cross_val_score\n",
    "from sklearn.model_selection import cross_val_predict"
   ]
  },
  {
   "cell_type": "code",
   "execution_count": 180,
   "metadata": {},
   "outputs": [
    {
     "name": "stdout",
     "output_type": "stream",
     "text": [
      "r2_score corresponding to random state:  42  is:  0.8474505164039001\n",
      "r2_score corresponding to random state:  43  is:  0.8192024347414525\n",
      "r2_score corresponding to random state:  44  is:  0.8255599025381297\n",
      "r2_score corresponding to random state:  45  is:  0.8118634480493012\n",
      "r2_score corresponding to random state:  46  is:  0.8436041864885547\n",
      "r2_score corresponding to random state:  47  is:  0.8128485457173842\n",
      "r2_score corresponding to random state:  48  is:  0.8074518529695625\n",
      "r2_score corresponding to random state:  49  is:  0.854829099003559\n",
      "r2_score corresponding to random state:  50  is:  0.8093601461940068\n",
      "r2_score corresponding to random state:  51  is:  0.8046895599521322\n",
      "r2_score corresponding to random state:  52  is:  0.7884202819174098\n",
      "r2_score corresponding to random state:  53  is:  0.807733491225283\n",
      "r2_score corresponding to random state:  54  is:  0.7393015134076084\n",
      "r2_score corresponding to random state:  55  is:  0.8511731432841718\n",
      "r2_score corresponding to random state:  56  is:  0.8292429508438485\n",
      "r2_score corresponding to random state:  57  is:  0.771844871137524\n",
      "r2_score corresponding to random state:  58  is:  0.8531053177608819\n",
      "r2_score corresponding to random state:  59  is:  0.8010228758113505\n",
      "r2_score corresponding to random state:  60  is:  0.8195704219815579\n",
      "r2_score corresponding to random state:  61  is:  0.8309111962097193\n",
      "r2_score corresponding to random state:  62  is:  0.8316247279763687\n",
      "r2_score corresponding to random state:  63  is:  0.8013165222316141\n",
      "r2_score corresponding to random state:  64  is:  0.8045102168088085\n",
      "r2_score corresponding to random state:  65  is:  0.8171707275828191\n",
      "r2_score corresponding to random state:  66  is:  0.7794557844353655\n",
      "r2_score corresponding to random state:  67  is:  0.7997868322594784\n",
      "r2_score corresponding to random state:  68  is:  0.8352998936545019\n",
      "r2_score corresponding to random state:  69  is:  0.8531414396922254\n",
      "r2_score corresponding to random state:  70  is:  0.8147101928983607\n",
      "r2_score corresponding to random state:  71  is:  0.8280520749172302\n",
      "r2_score corresponding to random state:  72  is:  0.8108547459830331\n",
      "r2_score corresponding to random state:  73  is:  0.8350245448793457\n",
      "r2_score corresponding to random state:  74  is:  0.8148120178945796\n",
      "r2_score corresponding to random state:  75  is:  0.8610784531446554\n",
      "r2_score corresponding to random state:  76  is:  0.8244713484729835\n",
      "r2_score corresponding to random state:  77  is:  0.8034113932394311\n",
      "r2_score corresponding to random state:  78  is:  0.8507471076494982\n",
      "r2_score corresponding to random state:  79  is:  0.7834167033916144\n",
      "r2_score corresponding to random state:  80  is:  0.785605266505655\n",
      "r2_score corresponding to random state:  81  is:  0.7786147381124369\n",
      "r2_score corresponding to random state:  82  is:  0.8091695181563505\n",
      "r2_score corresponding to random state:  83  is:  0.8009581325022435\n",
      "r2_score corresponding to random state:  84  is:  0.761915367769961\n",
      "r2_score corresponding to random state:  85  is:  0.8050270787987075\n",
      "r2_score corresponding to random state:  86  is:  0.8223768173262893\n",
      "r2_score corresponding to random state:  87  is:  0.8527606430888831\n",
      "r2_score corresponding to random state:  88  is:  0.8176328151768122\n",
      "r2_score corresponding to random state:  89  is:  0.7820267485591972\n",
      "r2_score corresponding to random state:  90  is:  0.7914674863822347\n",
      "r2_score corresponding to random state:  91  is:  0.870395376427646\n",
      "r2_score corresponding to random state:  92  is:  0.8327636707731019\n",
      "r2_score corresponding to random state:  93  is:  0.8311395669249977\n",
      "r2_score corresponding to random state:  94  is:  0.8159962695662923\n",
      "r2_score corresponding to random state:  95  is:  0.7781690256609005\n",
      "r2_score corresponding to random state:  96  is:  0.7818806317005709\n",
      "r2_score corresponding to random state:  97  is:  0.8402490698785642\n",
      "r2_score corresponding to random state:  98  is:  0.8539999745704538\n",
      "r2_score corresponding to random state:  99  is:  0.7695144053562231\n",
      "r2_score corresponding to random state:  100  is:  0.8360801779124084\n",
      "\n",
      "\n",
      "max r2 score corresponding to  91  is  0.870395376427646\n"
     ]
    }
   ],
   "source": [
    "#Linear regression and check r2 score for different random states\n",
    "from sklearn.linear_model import LinearRegression\n",
    "lreg=LinearRegression()\n",
    "r_state=maxr2_score(lreg,x,y)\n"
   ]
  },
  {
   "cell_type": "code",
   "execution_count": 181,
   "metadata": {},
   "outputs": [
    {
     "name": "stdout",
     "output_type": "stream",
     "text": [
      "Mean r2 score for Linear Regression:  0.5950772849156694\n",
      "Standard Deviation in r2 score for Linear Regression:  0.20457024524560166\n"
     ]
    }
   ],
   "source": [
    "from sklearn.model_selection import cross_val_score\n",
    "print(\"Mean r2 score for Linear Regression: \",cross_val_score(lreg,x,y,cv=5,scoring=\"r2\").mean())\n",
    "print(\"Standard Deviation in r2 score for Linear Regression: \",cross_val_score(lreg,x,y,cv=5,scoring=\"r2\").std())"
   ]
  },
  {
   "cell_type": "code",
   "execution_count": 185,
   "metadata": {},
   "outputs": [
    {
     "name": "stdout",
     "output_type": "stream",
     "text": [
      "(398, 8)\n",
      "(391, 8)\n"
     ]
    }
   ],
   "source": [
    "#Removing outliers with zscore\n",
    "from scipy.stats import zscore\n",
    "z_score=abs(zscore(df_auto))\n",
    "print(df_auto.shape)\n",
    "df_auto_final=df_auto.loc[(z_score<3).all(axis=1)]\n",
    "print(df_auto_final.shape)"
   ]
  },
  {
   "cell_type": "code",
   "execution_count": 186,
   "metadata": {},
   "outputs": [],
   "source": [
    "#separating input and target\n",
    "X = df_auto.drop('mpg', axis=1)\n",
    "Y = df_auto['mpg']"
   ]
  },
  {
   "cell_type": "code",
   "execution_count": 187,
   "metadata": {},
   "outputs": [],
   "source": [
    "#Scaling\n",
    "from sklearn.preprocessing import StandardScaler\n",
    "sc = StandardScaler()\n",
    "x = sc.fit_transform(X)\n",
    "x=pd.DataFrame(x,columns=X.columns)"
   ]
  },
  {
   "cell_type": "code",
   "execution_count": 188,
   "metadata": {},
   "outputs": [],
   "source": [
    "#calculating max r2 score\n",
    "from sklearn.model_selection import train_test_split\n",
    "from sklearn.metrics import mean_absolute_error\n",
    "from sklearn.metrics import mean_squared_error\n",
    "from sklearn.metrics import r2_score\n",
    "def maxr2_score(regr,x,Y):\n",
    "    max_r_score=0\n",
    "    for r_state in range(42,100):\n",
    "        x_train, x_test, y_train, y_test = train_test_split(x, Y, random_state = r_state,test_size=0.20)\n",
    "        regr.fit(x_train,y_train)\n",
    "        y_pred = regr.predict(x_test)\n",
    "        r2_scr=r2_score(y_test,y_pred)\n",
    "        print(\"r2 score corresponding to \",r_state,\" is \",r2_scr)\n",
    "        if r2_scr>max_r_score:\n",
    "            max_r_score=r2_scr\n",
    "            final_r_state=r_state\n",
    "    print(\"max r2 score corresponding to \",final_r_state,\" is \",max_r_score)\n",
    "    return final_r_state"
   ]
  },
  {
   "cell_type": "code",
   "execution_count": 189,
   "metadata": {},
   "outputs": [
    {
     "name": "stdout",
     "output_type": "stream",
     "text": [
      "r2 score corresponding to  42  is  0.8474505164039008\n",
      "r2 score corresponding to  43  is  0.819202434741453\n",
      "r2 score corresponding to  44  is  0.8255599025381299\n",
      "r2 score corresponding to  45  is  0.8118634480493012\n",
      "r2 score corresponding to  46  is  0.8436041864885548\n",
      "r2 score corresponding to  47  is  0.812848545717384\n",
      "r2 score corresponding to  48  is  0.8074518529695628\n",
      "r2 score corresponding to  49  is  0.8548290990035589\n",
      "r2 score corresponding to  50  is  0.8093601461940074\n",
      "r2 score corresponding to  51  is  0.8046895599521335\n",
      "r2 score corresponding to  52  is  0.7884202819174096\n",
      "r2 score corresponding to  53  is  0.8077334912252826\n",
      "r2 score corresponding to  54  is  0.7393015134076084\n",
      "r2 score corresponding to  55  is  0.8511731432841726\n",
      "r2 score corresponding to  56  is  0.8292429508438475\n",
      "r2 score corresponding to  57  is  0.7718448711375236\n",
      "r2 score corresponding to  58  is  0.8531053177608817\n",
      "r2 score corresponding to  59  is  0.8010228758113509\n",
      "r2 score corresponding to  60  is  0.8195704219815574\n",
      "r2 score corresponding to  61  is  0.8309111962097195\n",
      "r2 score corresponding to  62  is  0.8316247279763701\n",
      "r2 score corresponding to  63  is  0.8013165222316131\n",
      "r2 score corresponding to  64  is  0.8045102168088086\n",
      "r2 score corresponding to  65  is  0.8171707275828191\n",
      "r2 score corresponding to  66  is  0.7794557844353667\n",
      "r2 score corresponding to  67  is  0.79978683225948\n",
      "r2 score corresponding to  68  is  0.8352998936545014\n",
      "r2 score corresponding to  69  is  0.8531414396922266\n",
      "r2 score corresponding to  70  is  0.8147101928983607\n",
      "r2 score corresponding to  71  is  0.8280520749172292\n",
      "r2 score corresponding to  72  is  0.8108547459830335\n",
      "r2 score corresponding to  73  is  0.8350245448793489\n",
      "r2 score corresponding to  74  is  0.8148120178945796\n",
      "r2 score corresponding to  75  is  0.8610784531446553\n",
      "r2 score corresponding to  76  is  0.8244713484729844\n",
      "r2 score corresponding to  77  is  0.8034113932394307\n",
      "r2 score corresponding to  78  is  0.8507471076494985\n",
      "r2 score corresponding to  79  is  0.7834167033916145\n",
      "r2 score corresponding to  80  is  0.7856052665056541\n",
      "r2 score corresponding to  81  is  0.7786147381124371\n",
      "r2 score corresponding to  82  is  0.8091695181563501\n",
      "r2 score corresponding to  83  is  0.8009581325022433\n",
      "r2 score corresponding to  84  is  0.7619153677699587\n",
      "r2 score corresponding to  85  is  0.8050270787987073\n",
      "r2 score corresponding to  86  is  0.8223768173262884\n",
      "r2 score corresponding to  87  is  0.852760643088883\n",
      "r2 score corresponding to  88  is  0.8176328151768123\n",
      "r2 score corresponding to  89  is  0.7820267485591977\n",
      "r2 score corresponding to  90  is  0.7914674863822346\n",
      "r2 score corresponding to  91  is  0.8703953764276458\n",
      "r2 score corresponding to  92  is  0.8327636707731009\n",
      "r2 score corresponding to  93  is  0.8311395669249978\n",
      "r2 score corresponding to  94  is  0.8159962695662917\n",
      "r2 score corresponding to  95  is  0.7781690256609023\n",
      "r2 score corresponding to  96  is  0.7818806317005723\n",
      "r2 score corresponding to  97  is  0.8402490698785641\n",
      "r2 score corresponding to  98  is  0.8539999745704547\n",
      "r2 score corresponding to  99  is  0.7695144053562222\n",
      "max r2 score corresponding to  91  is  0.8703953764276458\n"
     ]
    }
   ],
   "source": [
    "from sklearn.linear_model import LinearRegression\n",
    "lreg=LinearRegression()\n",
    "r_state=maxr2_score(lreg,x,Y)"
   ]
  },
  {
   "cell_type": "code",
   "execution_count": 190,
   "metadata": {},
   "outputs": [
    {
     "data": {
      "text/plain": [
       "{'n_neighbors': 8}"
      ]
     },
     "execution_count": 190,
     "metadata": {},
     "output_type": "execute_result"
    }
   ],
   "source": [
    "#Use GridSearchCV to find value of n_neighbors in KNN model\n",
    "from sklearn.model_selection import GridSearchCV\n",
    "from sklearn.neighbors import KNeighborsRegressor\n",
    "neighbors={\"n_neighbors\":range(1,22)}\n",
    "knr=KNeighborsRegressor()\n",
    "gknr = GridSearchCV(knr, neighbors, cv=5)\n",
    "gknr.fit(x,Y)\n",
    "gknr.best_params_"
   ]
  },
  {
   "cell_type": "code",
   "execution_count": 191,
   "metadata": {},
   "outputs": [
    {
     "name": "stdout",
     "output_type": "stream",
     "text": [
      "r2 score corresponding to  42  is  0.8839427728563506\n",
      "r2 score corresponding to  43  is  0.8518398297759937\n",
      "r2 score corresponding to  44  is  0.8631912651688469\n",
      "r2 score corresponding to  45  is  0.8246123292520942\n",
      "r2 score corresponding to  46  is  0.8873254512630204\n",
      "r2 score corresponding to  47  is  0.8584086797143229\n",
      "r2 score corresponding to  48  is  0.8520016610502513\n",
      "r2 score corresponding to  49  is  0.8796703959070008\n",
      "r2 score corresponding to  50  is  0.8206258959173808\n",
      "r2 score corresponding to  51  is  0.8706658051305585\n",
      "r2 score corresponding to  52  is  0.7629871981006252\n",
      "r2 score corresponding to  53  is  0.8510216170659829\n",
      "r2 score corresponding to  54  is  0.7516700539056237\n",
      "r2 score corresponding to  55  is  0.8976816609502565\n",
      "r2 score corresponding to  56  is  0.8879513260606411\n",
      "r2 score corresponding to  57  is  0.8315822765544457\n",
      "r2 score corresponding to  58  is  0.8976654312675021\n",
      "r2 score corresponding to  59  is  0.8402131066599671\n",
      "r2 score corresponding to  60  is  0.8472117621105607\n",
      "r2 score corresponding to  61  is  0.876278926523538\n",
      "r2 score corresponding to  62  is  0.8901954396660126\n",
      "r2 score corresponding to  63  is  0.785139080828364\n",
      "r2 score corresponding to  64  is  0.8428824067020753\n",
      "r2 score corresponding to  65  is  0.8434464042284548\n",
      "r2 score corresponding to  66  is  0.8543481981985956\n",
      "r2 score corresponding to  67  is  0.8771398610107946\n",
      "r2 score corresponding to  68  is  0.8478556285576939\n",
      "r2 score corresponding to  69  is  0.8759381336088102\n",
      "r2 score corresponding to  70  is  0.8589187118049862\n",
      "r2 score corresponding to  71  is  0.7943373439331145\n",
      "r2 score corresponding to  72  is  0.9071908103811561\n",
      "r2 score corresponding to  73  is  0.8714684984461127\n",
      "r2 score corresponding to  74  is  0.8692098970483293\n",
      "r2 score corresponding to  75  is  0.8666957940910373\n",
      "r2 score corresponding to  76  is  0.8544404199067517\n",
      "r2 score corresponding to  77  is  0.8500069612081065\n",
      "r2 score corresponding to  78  is  0.8890218925473291\n",
      "r2 score corresponding to  79  is  0.8482888795203014\n",
      "r2 score corresponding to  80  is  0.7812158784504664\n",
      "r2 score corresponding to  81  is  0.8205170968464193\n",
      "r2 score corresponding to  82  is  0.8316265174555776\n",
      "r2 score corresponding to  83  is  0.8425443790843276\n",
      "r2 score corresponding to  84  is  0.7784291258291163\n",
      "r2 score corresponding to  85  is  0.8850346148972994\n",
      "r2 score corresponding to  86  is  0.8133379573183841\n",
      "r2 score corresponding to  87  is  0.8904864699875469\n",
      "r2 score corresponding to  88  is  0.8688687008727776\n",
      "r2 score corresponding to  89  is  0.81572074103498\n",
      "r2 score corresponding to  90  is  0.7983644644882224\n",
      "r2 score corresponding to  91  is  0.8826651082392375\n",
      "r2 score corresponding to  92  is  0.8506815413409423\n",
      "r2 score corresponding to  93  is  0.857570861175445\n",
      "r2 score corresponding to  94  is  0.8350797497609399\n",
      "r2 score corresponding to  95  is  0.8349200670567469\n",
      "r2 score corresponding to  96  is  0.7393367696422911\n",
      "r2 score corresponding to  97  is  0.8561129284381414\n",
      "r2 score corresponding to  98  is  0.8948124997161815\n",
      "r2 score corresponding to  99  is  0.8486814900326186\n",
      "max r2 score corresponding to  72  is  0.9071908103811561\n"
     ]
    }
   ],
   "source": [
    "#Calculating r2 score for KNN model based on n_neighbors value\n",
    "knr=KNeighborsRegressor(n_neighbors=8)\n",
    "r_state=maxr2_score(knr,x,Y)"
   ]
  },
  {
   "cell_type": "code",
   "execution_count": 192,
   "metadata": {},
   "outputs": [
    {
     "name": "stdout",
     "output_type": "stream",
     "text": [
      "Mean r2 score for Linear Regression:  0.5950772849156705\n",
      "standard deviation in r2 score for Linear Regression:  0.20457024524560094\n",
      "\n",
      "Mean r2 score for KNN Regression:  0.6900189653540167\n",
      "standard deviation in r2 score for KNR Regression:  0.2499317362332148\n"
     ]
    }
   ],
   "source": [
    "from sklearn.model_selection import cross_val_score\n",
    "print(\"Mean r2 score for Linear Regression: \",cross_val_score(lreg,x,Y,cv=5,scoring=\"r2\").mean())\n",
    "print(\"standard deviation in r2 score for Linear Regression: \",cross_val_score(lreg,x,Y,cv=5,scoring=\"r2\").std())\n",
    "print()\n",
    "print(\"Mean r2 score for KNN Regression: \",cross_val_score(knr,x,Y,cv=5,scoring=\"r2\").mean())\n",
    "print(\"standard deviation in r2 score for KNR Regression: \",cross_val_score(knr,x,Y,cv=5,scoring=\"r2\").std())"
   ]
  },
  {
   "cell_type": "code",
   "execution_count": 193,
   "metadata": {},
   "outputs": [
    {
     "data": {
      "text/plain": [
       "{'alpha': 0.001}"
      ]
     },
     "execution_count": 193,
     "metadata": {},
     "output_type": "execute_result"
    }
   ],
   "source": [
    "#Check Lasso Regression to find best alpha value\n",
    "from sklearn.linear_model import Lasso\n",
    "lsreg=Lasso()\n",
    "parameters={\"alpha\":[0.001,0.01,0.1,1]}\n",
    "clf = GridSearchCV(lsreg, parameters, cv=10)\n",
    "clf.fit(x,Y)\n",
    "clf.best_params_"
   ]
  },
  {
   "cell_type": "code",
   "execution_count": 194,
   "metadata": {},
   "outputs": [
    {
     "name": "stdout",
     "output_type": "stream",
     "text": [
      "r2 score corresponding to  42  is  0.8441326458012832\n",
      "r2 score corresponding to  43  is  0.8240050735659612\n",
      "r2 score corresponding to  44  is  0.8313179320005998\n",
      "r2 score corresponding to  45  is  0.8119535525883224\n",
      "r2 score corresponding to  46  is  0.8398015612303358\n",
      "r2 score corresponding to  47  is  0.8143784931237732\n",
      "r2 score corresponding to  48  is  0.7980468555941442\n",
      "r2 score corresponding to  49  is  0.8462593723058905\n",
      "r2 score corresponding to  50  is  0.8087160071917618\n",
      "r2 score corresponding to  51  is  0.804673654820651\n",
      "r2 score corresponding to  52  is  0.7776145047203384\n",
      "r2 score corresponding to  53  is  0.8024883312425306\n",
      "r2 score corresponding to  54  is  0.7323684647798583\n",
      "r2 score corresponding to  55  is  0.8508769026459294\n",
      "r2 score corresponding to  56  is  0.8273999839289242\n",
      "r2 score corresponding to  57  is  0.7710637197392909\n",
      "r2 score corresponding to  58  is  0.8491404066910101\n",
      "r2 score corresponding to  59  is  0.7944133451030918\n",
      "r2 score corresponding to  60  is  0.8228066085366261\n",
      "r2 score corresponding to  61  is  0.8281639037255019\n",
      "r2 score corresponding to  62  is  0.8293259913575709\n",
      "r2 score corresponding to  63  is  0.7918802982769741\n",
      "r2 score corresponding to  64  is  0.7952598432516669\n",
      "r2 score corresponding to  65  is  0.8179058928894578\n",
      "r2 score corresponding to  66  is  0.7830221970996267\n",
      "r2 score corresponding to  67  is  0.8123645569293422\n",
      "r2 score corresponding to  68  is  0.8272577097142713\n",
      "r2 score corresponding to  69  is  0.8502387104195408\n",
      "r2 score corresponding to  70  is  0.8079750731264562\n",
      "r2 score corresponding to  71  is  0.8316708557862575\n",
      "r2 score corresponding to  72  is  0.8227522694134608\n",
      "r2 score corresponding to  73  is  0.8466933602901772\n",
      "r2 score corresponding to  74  is  0.8098990676558853\n",
      "r2 score corresponding to  75  is  0.854416145800724\n",
      "r2 score corresponding to  76  is  0.8169259694294866\n",
      "r2 score corresponding to  77  is  0.8102953338645698\n",
      "r2 score corresponding to  78  is  0.8545859070966997\n",
      "r2 score corresponding to  79  is  0.7824862182409548\n",
      "r2 score corresponding to  80  is  0.7777791826727237\n",
      "r2 score corresponding to  81  is  0.7713485102824742\n",
      "r2 score corresponding to  82  is  0.8104686738336938\n",
      "r2 score corresponding to  83  is  0.7988648398625093\n",
      "r2 score corresponding to  84  is  0.7572979605751847\n",
      "r2 score corresponding to  85  is  0.8051108964376813\n",
      "r2 score corresponding to  86  is  0.8211053949584572\n",
      "r2 score corresponding to  87  is  0.8592579052746248\n",
      "r2 score corresponding to  88  is  0.8186676786399489\n",
      "r2 score corresponding to  89  is  0.8111246412328963\n",
      "r2 score corresponding to  90  is  0.7904963341049543\n",
      "r2 score corresponding to  91  is  0.8786712134214947\n",
      "r2 score corresponding to  92  is  0.8325440255463231\n",
      "r2 score corresponding to  93  is  0.82459783756527\n",
      "r2 score corresponding to  94  is  0.8082798537688395\n",
      "r2 score corresponding to  95  is  0.7794648660368445\n",
      "r2 score corresponding to  96  is  0.7805981202824726\n",
      "r2 score corresponding to  97  is  0.8319930807097164\n",
      "r2 score corresponding to  98  is  0.8513275129705995\n",
      "r2 score corresponding to  99  is  0.7739291970731331\n",
      "max r2 score corresponding to  91  is  0.8786712134214947\n"
     ]
    }
   ],
   "source": [
    "#max r2 score for Lasso\n",
    "lsreg=Lasso(alpha=0.1)\n",
    "r_state=maxr2_score(lsreg,x,Y)"
   ]
  },
  {
   "cell_type": "code",
   "execution_count": 195,
   "metadata": {},
   "outputs": [
    {
     "name": "stdout",
     "output_type": "stream",
     "text": [
      "Mean r2 score for Lasso Regression:  0.5912852052836332\n",
      "standard deviation in r2 score for Lasso Regression:  0.22911691864285172\n"
     ]
    }
   ],
   "source": [
    "#cross val score for Lasso\n",
    "print(\"Mean r2 score for Lasso Regression: \",cross_val_score(lsreg,x,Y,cv=5,scoring=\"r2\").mean())\n",
    "print(\"standard deviation in r2 score for Lasso Regression: \",cross_val_score(lsreg,x,Y,cv=5,scoring=\"r2\").std())"
   ]
  },
  {
   "cell_type": "code",
   "execution_count": 196,
   "metadata": {},
   "outputs": [],
   "source": [
    "#checking RMSE and r2 score for Linear regression\n",
    "x_train, x_test, y_train, y_test = train_test_split(x,Y,random_state = 91, test_size = 0.30)\n",
    "lreg=LinearRegression()\n",
    "lreg.fit(x_train,y_train)\n",
    "y_pred=lreg.predict(x_test)"
   ]
  },
  {
   "cell_type": "code",
   "execution_count": 197,
   "metadata": {},
   "outputs": [
    {
     "name": "stdout",
     "output_type": "stream",
     "text": [
      "RMSE is:  3.173596019904063\n",
      "r2_score is:  0.8301575553028507\n"
     ]
    }
   ],
   "source": [
    "import numpy as np\n",
    "from sklearn.metrics import r2_score\n",
    "from sklearn.metrics import mean_squared_error\n",
    "print(\"RMSE is: \",np.sqrt(mean_squared_error(y_test,y_pred)))\n",
    "print(\"r2_score is: \",r2_score(y_test,y_pred))"
   ]
  },
  {
   "cell_type": "code",
   "execution_count": 203,
   "metadata": {},
   "outputs": [],
   "source": [
    "#checking RMSE and r2 score for Lasso\n",
    "x_train, x_test, y_train, y_test = train_test_split(x,Y,random_state = 91, test_size = 0.30)\n",
    "lsreg=Lasso()\n",
    "lsreg.fit(x_train,y_train)\n",
    "y_pred=lsreg.predict(x_test)"
   ]
  },
  {
   "cell_type": "code",
   "execution_count": 204,
   "metadata": {},
   "outputs": [
    {
     "name": "stdout",
     "output_type": "stream",
     "text": [
      "RMSE is:  3.4197368890942856\n",
      "r2_score is:  0.8027902724236831\n"
     ]
    }
   ],
   "source": [
    "import numpy as np\n",
    "from sklearn.metrics import r2_score\n",
    "from sklearn.metrics import mean_squared_error\n",
    "print(\"RMSE is: \",np.sqrt(mean_squared_error(y_test,y_pred)))\n",
    "print(\"r2_score is: \",r2_score(y_test,y_pred))"
   ]
  },
  {
   "cell_type": "code",
   "execution_count": 205,
   "metadata": {},
   "outputs": [],
   "source": [
    "##checking RMSE and r2 score for KNeighbors Regressor\n",
    "x_train, x_test, y_train, y_test = train_test_split(x,Y,random_state = 72, test_size = 0.30)\n",
    "knr=KNeighborsRegressor()\n",
    "knr.fit(x_train,y_train)\n",
    "y_pred=knr.predict(x_test)"
   ]
  },
  {
   "cell_type": "code",
   "execution_count": 206,
   "metadata": {},
   "outputs": [
    {
     "name": "stdout",
     "output_type": "stream",
     "text": [
      "RMSE is:  2.4205088996600144\n",
      "r2_score is:  0.891693398963216\n"
     ]
    }
   ],
   "source": [
    "import numpy as np\n",
    "from sklearn.metrics import r2_score\n",
    "from sklearn.metrics import mean_squared_error\n",
    "print(\"RMSE is: \",np.sqrt(mean_squared_error(y_test,y_pred)))\n",
    "print(\"r2_score is: \",r2_score(y_test,y_pred))"
   ]
  },
  {
   "cell_type": "code",
   "execution_count": null,
   "metadata": {},
   "outputs": [],
   "source": [
    "#saving Linear Regression as the final model\n",
    "!pip install joblib\n",
    "from sklearn.externals import joblib\n",
    "joblib.dump(lreg, \"Auto_lreg.pkl\")"
   ]
  },
  {
   "cell_type": "code",
   "execution_count": null,
   "metadata": {},
   "outputs": [],
   "source": []
  },
  {
   "cell_type": "code",
   "execution_count": null,
   "metadata": {},
   "outputs": [],
   "source": []
  },
  {
   "cell_type": "code",
   "execution_count": null,
   "metadata": {},
   "outputs": [],
   "source": []
  },
  {
   "cell_type": "code",
   "execution_count": null,
   "metadata": {},
   "outputs": [],
   "source": []
  },
  {
   "cell_type": "code",
   "execution_count": null,
   "metadata": {},
   "outputs": [],
   "source": []
  },
  {
   "cell_type": "code",
   "execution_count": null,
   "metadata": {},
   "outputs": [],
   "source": []
  },
  {
   "cell_type": "code",
   "execution_count": null,
   "metadata": {},
   "outputs": [],
   "source": []
  },
  {
   "cell_type": "code",
   "execution_count": null,
   "metadata": {},
   "outputs": [],
   "source": []
  },
  {
   "cell_type": "code",
   "execution_count": null,
   "metadata": {},
   "outputs": [],
   "source": []
  },
  {
   "cell_type": "code",
   "execution_count": null,
   "metadata": {},
   "outputs": [],
   "source": []
  },
  {
   "cell_type": "code",
   "execution_count": null,
   "metadata": {},
   "outputs": [],
   "source": []
  },
  {
   "cell_type": "code",
   "execution_count": null,
   "metadata": {},
   "outputs": [],
   "source": []
  },
  {
   "cell_type": "code",
   "execution_count": null,
   "metadata": {},
   "outputs": [],
   "source": []
  },
  {
   "cell_type": "code",
   "execution_count": null,
   "metadata": {},
   "outputs": [],
   "source": []
  },
  {
   "cell_type": "code",
   "execution_count": null,
   "metadata": {},
   "outputs": [],
   "source": []
  },
  {
   "cell_type": "code",
   "execution_count": null,
   "metadata": {},
   "outputs": [],
   "source": []
  },
  {
   "cell_type": "code",
   "execution_count": null,
   "metadata": {},
   "outputs": [],
   "source": []
  },
  {
   "cell_type": "code",
   "execution_count": null,
   "metadata": {},
   "outputs": [],
   "source": []
  },
  {
   "cell_type": "code",
   "execution_count": null,
   "metadata": {},
   "outputs": [],
   "source": []
  },
  {
   "cell_type": "code",
   "execution_count": null,
   "metadata": {},
   "outputs": [],
   "source": []
  },
  {
   "cell_type": "code",
   "execution_count": null,
   "metadata": {},
   "outputs": [],
   "source": []
  },
  {
   "cell_type": "code",
   "execution_count": null,
   "metadata": {},
   "outputs": [],
   "source": []
  },
  {
   "cell_type": "code",
   "execution_count": null,
   "metadata": {},
   "outputs": [],
   "source": []
  },
  {
   "cell_type": "code",
   "execution_count": null,
   "metadata": {},
   "outputs": [],
   "source": []
  },
  {
   "cell_type": "code",
   "execution_count": null,
   "metadata": {},
   "outputs": [],
   "source": []
  },
  {
   "cell_type": "code",
   "execution_count": null,
   "metadata": {},
   "outputs": [],
   "source": []
  },
  {
   "cell_type": "code",
   "execution_count": null,
   "metadata": {},
   "outputs": [],
   "source": []
  },
  {
   "cell_type": "code",
   "execution_count": null,
   "metadata": {},
   "outputs": [],
   "source": []
  },
  {
   "cell_type": "code",
   "execution_count": null,
   "metadata": {},
   "outputs": [],
   "source": []
  },
  {
   "cell_type": "code",
   "execution_count": null,
   "metadata": {},
   "outputs": [],
   "source": []
  },
  {
   "cell_type": "code",
   "execution_count": null,
   "metadata": {},
   "outputs": [],
   "source": []
  },
  {
   "cell_type": "code",
   "execution_count": null,
   "metadata": {},
   "outputs": [],
   "source": []
  },
  {
   "cell_type": "code",
   "execution_count": null,
   "metadata": {},
   "outputs": [],
   "source": []
  },
  {
   "cell_type": "code",
   "execution_count": null,
   "metadata": {},
   "outputs": [],
   "source": []
  },
  {
   "cell_type": "code",
   "execution_count": null,
   "metadata": {},
   "outputs": [],
   "source": []
  },
  {
   "cell_type": "code",
   "execution_count": null,
   "metadata": {},
   "outputs": [],
   "source": []
  },
  {
   "cell_type": "code",
   "execution_count": null,
   "metadata": {},
   "outputs": [],
   "source": []
  },
  {
   "cell_type": "code",
   "execution_count": null,
   "metadata": {},
   "outputs": [],
   "source": []
  },
  {
   "cell_type": "code",
   "execution_count": null,
   "metadata": {},
   "outputs": [],
   "source": []
  },
  {
   "cell_type": "code",
   "execution_count": null,
   "metadata": {},
   "outputs": [],
   "source": []
  },
  {
   "cell_type": "code",
   "execution_count": null,
   "metadata": {},
   "outputs": [],
   "source": []
  },
  {
   "cell_type": "code",
   "execution_count": null,
   "metadata": {},
   "outputs": [],
   "source": []
  },
  {
   "cell_type": "code",
   "execution_count": null,
   "metadata": {},
   "outputs": [],
   "source": []
  },
  {
   "cell_type": "code",
   "execution_count": null,
   "metadata": {},
   "outputs": [],
   "source": []
  },
  {
   "cell_type": "code",
   "execution_count": null,
   "metadata": {},
   "outputs": [],
   "source": []
  },
  {
   "cell_type": "code",
   "execution_count": null,
   "metadata": {},
   "outputs": [],
   "source": []
  },
  {
   "cell_type": "code",
   "execution_count": null,
   "metadata": {},
   "outputs": [],
   "source": []
  },
  {
   "cell_type": "code",
   "execution_count": null,
   "metadata": {},
   "outputs": [],
   "source": []
  },
  {
   "cell_type": "code",
   "execution_count": null,
   "metadata": {},
   "outputs": [],
   "source": []
  },
  {
   "cell_type": "code",
   "execution_count": null,
   "metadata": {},
   "outputs": [],
   "source": []
  },
  {
   "cell_type": "code",
   "execution_count": null,
   "metadata": {},
   "outputs": [],
   "source": []
  },
  {
   "cell_type": "code",
   "execution_count": null,
   "metadata": {},
   "outputs": [],
   "source": []
  },
  {
   "cell_type": "code",
   "execution_count": null,
   "metadata": {},
   "outputs": [],
   "source": []
  },
  {
   "cell_type": "code",
   "execution_count": null,
   "metadata": {},
   "outputs": [],
   "source": []
  },
  {
   "cell_type": "code",
   "execution_count": null,
   "metadata": {},
   "outputs": [],
   "source": []
  }
 ],
 "metadata": {
  "kernelspec": {
   "display_name": "Python 3",
   "language": "python",
   "name": "python3"
  },
  "language_info": {
   "codemirror_mode": {
    "name": "ipython",
    "version": 3
   },
   "file_extension": ".py",
   "mimetype": "text/x-python",
   "name": "python",
   "nbconvert_exporter": "python",
   "pygments_lexer": "ipython3",
   "version": "3.7.4"
  }
 },
 "nbformat": 4,
 "nbformat_minor": 2
}
