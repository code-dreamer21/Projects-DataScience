{
 "cells": [
  {
   "cell_type": "markdown",
   "metadata": {},
   "source": [
    "# Web Scraping Flipkart Images"
   ]
  },
  {
   "cell_type": "code",
   "execution_count": 90,
   "metadata": {},
   "outputs": [
    {
     "name": "stdout",
     "output_type": "stream",
     "text": [
      "Requirement already satisfied: selenium in c:\\users\\sristi\\anaconda3\\lib\\site-packages (3.141.0)\n",
      "Requirement already satisfied: urllib3 in c:\\users\\sristi\\anaconda3\\lib\\site-packages (from selenium) (1.24.2)\n"
     ]
    }
   ],
   "source": [
    "!pip install selenium"
   ]
  },
  {
   "cell_type": "code",
   "execution_count": 123,
   "metadata": {},
   "outputs": [],
   "source": [
    "from selenium import webdriver\n",
    "import os"
   ]
  },
  {
   "cell_type": "code",
   "execution_count": 124,
   "metadata": {},
   "outputs": [],
   "source": [
    "driver = webdriver.Chrome(executable_path = 'chromedriver.exe')"
   ]
  },
  {
   "cell_type": "code",
   "execution_count": 133,
   "metadata": {},
   "outputs": [],
   "source": [
    "my_page = driver.get(\"https://www.flipkart.com/search?q=trousers&sid=clo%2Cvua%2Cmle%2Clhk&as=on&as-show=on&otracker=AS_QueryStore_OrganicAutoSuggest_3_8_na_na_na&otracker1=AS_QueryStore_OrganicAutoSuggest_3_8_na_na_na&as-pos=3&as-type=RECENT&suggestionId=trousers%7CMen%27s+Trousers&requestId=e8be4332-c9b4-4136-bfb5-9474dd8c0ca2&as-searchtext=trousers&sort=price_desc&page=8\")"
   ]
  },
  {
   "cell_type": "code",
   "execution_count": 134,
   "metadata": {},
   "outputs": [],
   "source": [
    "def make_directory(dirname):\n",
    "    current_path = os.getcwd()\n",
    "    path = os.path.join(current_path, dirname)\n",
    "    if not os.path.exists(path):\n",
    "        os.makedirs(path)"
   ]
  },
  {
   "cell_type": "code",
   "execution_count": 135,
   "metadata": {},
   "outputs": [],
   "source": [
    "make_directory(\"flipkart_images\")"
   ]
  },
  {
   "cell_type": "code",
   "execution_count": 136,
   "metadata": {},
   "outputs": [
    {
     "name": "stdout",
     "output_type": "stream",
     "text": [
      "<selenium.webdriver.remote.webelement.WebElement (session=\"8175d4f6a9d1e088244e134f14110ecd\", element=\"573befaa-6d5d-41c5-99c4-dd49e7d05630\")>\n"
     ]
    }
   ],
   "source": [
    "images = driver.find_elements_by_xpath(\"//img[@class = '_3togXc']\")\n",
    "print(images[0])"
   ]
  },
  {
   "cell_type": "code",
   "execution_count": 137,
   "metadata": {},
   "outputs": [
    {
     "name": "stdout",
     "output_type": "stream",
     "text": [
      "https://rukminim1.flixcart.com/image/329/395/jyq5oy80/trouser/g/j/e/46-lptfmslbq02371-louis-philippe-original-imafgwew2hyzmkzn.jpeg?q=50\n",
      "https://rukminim1.flixcart.com/image/329/395/jskofww0/trouser/w/n/d/36-blackbluebrowncream-trendz-deeksha-original-imafe2bekpawgctu.jpeg?q=50\n",
      "https://rukminim1.flixcart.com/image/329/395/jskofww0/trouser/3/g/e/36-beigebrowncreamgrey-trendz-deeksha-original-imafe2bvgsrnqpjx.jpeg?q=50\n",
      "https://rukminim1.flixcart.com/image/329/395/jskofww0/trouser/r/f/q/30-beigebluebrowncream-trendz-deeksha-original-imafe2bqnju2uhge.jpeg?q=50\n",
      "https://rukminim1.flixcart.com/image/329/395/k1l1ea80/trouser/k/f/n/44-lytfcssha25980-louis-philippe-original-imafh3twyv2tae4e.jpeg?q=50\n",
      "https://rukminim1.flixcart.com/image/329/395/k391w280/trouser/h/z/n/40-lytfcslfv70374-louis-philippe-original-imafmfantqajarub.jpeg?q=50\n",
      "https://rukminim1.flixcart.com/image/329/395/jxxkvww0/trouser/v/a/n/32-lptfmslb774053-louis-philippe-original-imafgad4zxpp5h4z.jpeg?q=50\n",
      "https://rukminim1.flixcart.com/image/329/395/k12go7k0/track-pant/r/y/h/xs-du8335-adidas-originals-original-imafkqayswjygw5t.jpeg?q=50\n",
      "https://rukminim1.flixcart.com/image/329/395/jz1l7rk0/trouser/p/e/g/46-lptfmrgbb85258-louis-philippe-original-imafj5kjrdcbfkak.jpeg?q=50\n",
      "https://rukminim1.flixcart.com/image/329/395/k0zlsi80/trouser/7/h/7/32-lptfmrgb181445-louis-philippe-original-imafkz6cphzpuycf.jpeg?q=50\n",
      "https://rukminim1.flixcart.com/image/329/395/jyoq93k0/trouser/h/w/z/28-lptfmslbp77254-louis-philippe-original-imafgvaakewabyxn.jpeg?q=50\n",
      "https://rukminim1.flixcart.com/image/329/395/k3j1z0w0/trouser/m/z/m/42-lptfmssbj97850-louis-philippe-original-imafmmz3x2kmjqzp.jpeg?q=50\n",
      "https://rukminim1.flixcart.com/image/329/395/k7m8brk0/trouser/q/u/g/32-lytflslpb87021-louis-philippe-original-imafptptnah5kjaj.jpeg?q=50\n",
      "https://rukminim1.flixcart.com/image/329/395/k15bjww0/trouser/3/g/x/36-lytfcslh891153-louis-philippe-original-imafkrvrehacvajd.jpeg?q=50\n",
      "https://rukminim1.flixcart.com/image/329/395/k69ncsw0/trouser/4/a/g/54-210727401-jack-jones-original-imafzrems34csbgd.jpeg?q=50\n",
      "https://rukminim1.flixcart.com/image/329/395/k0flmkw0/trouser/f/b/u/34-lptfmssbo59117-louis-philippe-original-imafk6kyzy6kbynp.jpeg?q=50\n",
      "https://rukminim1.flixcart.com/image/329/395/k5cs87k0/trouser/z/b/k/54-12166702-jack-jones-original-imafnzw8jfkzxfbd.jpeg?q=50\n",
      "https://rukminim1.flixcart.com/image/329/395/k1v1h8w0/trouser/r/c/y/42-lptfmslf609249-louis-philippe-original-imafhbzydw8a3hje.jpeg?q=50\n",
      "https://rukminim1.flixcart.com/image/329/395/k3rmm4w0/trouser/z/z/b/32-lytfcslh891153-louis-philippe-sport-original-imafmtvkf8gchegh.jpeg?q=50\n",
      "https://rukminim1.flixcart.com/image/329/395/k3ahbww0/trouser/h/3/6/40-lytfcslhw42780-louis-philippe-original-imafmfzfgf7gcqgy.jpeg?q=50\n",
      "https://rukminim1.flixcart.com/image/329/395/k0zlsi80/trouser/q/k/w/32-lytfcslhi01010-louis-philippe-sport-original-imafkz6ewzbjadny.jpeg?q=50\n",
      "https://rukminim1.flixcart.com/image/329/395/k0plpjk0/trouser/z/m/q/32-a8amn101-tommy-hilfiger-original-imafkg5hcd8tkpzc.jpeg?q=50\n",
      "https://rukminim1.flixcart.com/image/329/395/k5cs87k0/trouser/e/f/7/48-12166702-jack-jones-original-imafnzw8gartatce.jpeg?q=50\n",
      "https://rukminim1.flixcart.com/image/329/395/k1l1ea80/trouser/r/6/w/38-lytfcssht96284-louis-philippe-original-imafh4c3zh2qnqgs.jpeg?q=50\n",
      "https://rukminim1.flixcart.com/image/329/395/k9k8wi80/trouser/n/g/b/34-10291555-lee-original-imafrbv6nzfhdxgg.jpeg?q=50\n",
      "https://rukminim1.flixcart.com/image/329/395/k0e66q80/trouser/y/g/z/36-lytfcslhl95391-louis-philippe-original-imafk6htzke5cf2y.jpeg?q=50\n",
      "https://rukminim1.flixcart.com/image/329/395/k0zlsi80/trouser/e/w/f/32-lptpmrgbs74385-louis-philippe-original-imafkz6dbtt7bddr.jpeg?q=50\n",
      "https://rukminim1.flixcart.com/image/329/395/k8by93k0/trouser/t/u/6/54-208010906-jack-jones-original-imafqcqg5avxzcbz.jpeg?q=50\n",
      "https://rukminim1.flixcart.com/image/329/395/k1qr5ow0/trouser/h/e/a/42-lptpmrgbc97247-louis-philippe-original-imafh8a2utvkmxmf.jpeg?q=50\n",
      "https://rukminim1.flixcart.com/image/329/395/jur9nrk0/trouser/g/n/b/32-p9amn119-tommy-hilfiger-original-imaffzhywqzbrzsq.jpeg?q=50\n",
      "https://rukminim1.flixcart.com/image/329/395/k0zlsi80/trouser/s/r/4/32-lytfcslh408536-louis-philippe-sport-original-imafkz6fh2z87qdy.jpeg?q=50\n",
      "https://rukminim1.flixcart.com/image/329/395/k0zlsi80/trouser/y/y/w/32-lptfmrgbj23609-louis-philippe-original-imafkz6cyc5ax2nd.jpeg?q=50\n",
      "https://rukminim1.flixcart.com/image/329/395/k3erngw0/trouser/h/k/f/42-lptpmrgbr34361-louis-philippe-original-imafmjrbmchwactb.jpeg?q=50\n",
      "https://rukminim1.flixcart.com/image/329/395/k391w280/trouser/8/8/k/40-lytfcctf963570-louis-philippe-original-imafmf8jtnpveyry.jpeg?q=50\n",
      "https://rukminim1.flixcart.com/image/329/395/k0e66q80/trouser/6/g/3/40-lytfcslh408536-louis-philippe-original-imafk6kzbh3hbgmw.jpeg?q=50\n",
      "https://rukminim1.flixcart.com/image/329/395/jskofww0/trouser/6/8/t/36-beigebluebrowngrey-trendz-deeksha-original-imafe2btf3wzb4kf.jpeg?q=50\n",
      "https://rukminim1.flixcart.com/image/329/395/jskofww0/trouser/h/j/z/38-beigeblackbluebrown-trendz-deeksha-original-imafe2bjeytfcghh.jpeg?q=50\n",
      "https://rukminim1.flixcart.com/image/329/395/k391w280/trouser/x/k/3/32-lytfcslhx83934-louis-philippe-original-imafmfa2kf9vmqdg.jpeg?q=50\n",
      "https://rukminim1.flixcart.com/image/329/395/k15bjww0/trouser/h/8/r/42-lptpmrgb981373-louis-philippe-original-imafkrv5rbjhgd3p.jpeg?q=50\n",
      "https://rukminim1.flixcart.com/image/329/395/k1l1ea80/trouser/f/e/e/42-lytfcsshs26843-louis-philippe-original-imafh3twhzzk7mw3.jpeg?q=50\n"
     ]
    }
   ],
   "source": [
    "urls = []\n",
    "for image in images:\n",
    "    source = image.get_attribute('src')\n",
    "    urls.append(source)\n",
    "    print(source)"
   ]
  },
  {
   "cell_type": "code",
   "execution_count": 138,
   "metadata": {},
   "outputs": [
    {
     "data": {
      "text/plain": [
       "40"
      ]
     },
     "execution_count": 138,
     "metadata": {},
     "output_type": "execute_result"
    }
   ],
   "source": [
    "len(urls)"
   ]
  },
  {
   "cell_type": "code",
   "execution_count": 139,
   "metadata": {},
   "outputs": [],
   "source": [
    "import shutil\n",
    "import requests"
   ]
  },
  {
   "cell_type": "code",
   "execution_count": 140,
   "metadata": {},
   "outputs": [
    {
     "name": "stdout",
     "output_type": "stream",
     "text": [
      "Downloading 1 of 40 images\n",
      "Downloading 2 of 40 images\n",
      "Downloading 3 of 40 images\n",
      "Downloading 4 of 40 images\n",
      "Downloading 5 of 40 images\n",
      "Downloading 6 of 40 images\n",
      "Downloading 7 of 40 images\n",
      "Downloading 8 of 40 images\n",
      "Downloading 9 of 40 images\n",
      "Downloading 10 of 40 images\n",
      "Downloading 11 of 40 images\n",
      "Downloading 12 of 40 images\n",
      "Downloading 13 of 40 images\n",
      "Downloading 14 of 40 images\n",
      "Downloading 15 of 40 images\n",
      "Downloading 16 of 40 images\n",
      "Downloading 17 of 40 images\n",
      "Downloading 18 of 40 images\n",
      "Downloading 19 of 40 images\n",
      "Downloading 20 of 40 images\n",
      "Downloading 21 of 40 images\n",
      "Downloading 22 of 40 images\n",
      "Downloading 23 of 40 images\n",
      "Downloading 24 of 40 images\n",
      "Downloading 25 of 40 images\n",
      "Downloading 26 of 40 images\n",
      "Downloading 27 of 40 images\n",
      "Downloading 28 of 40 images\n",
      "Downloading 29 of 40 images\n",
      "Downloading 30 of 40 images\n",
      "Downloading 31 of 40 images\n",
      "Downloading 32 of 40 images\n",
      "Downloading 33 of 40 images\n",
      "Downloading 34 of 40 images\n",
      "Downloading 35 of 40 images\n",
      "Downloading 36 of 40 images\n",
      "Downloading 37 of 40 images\n",
      "Downloading 38 of 40 images\n",
      "Downloading 39 of 40 images\n",
      "Downloading 40 of 40 images\n"
     ]
    }
   ],
   "source": [
    "for index, link in enumerate(urls):\n",
    "    print(\"Downloading {0} of {1} images\".format(index+1, len(urls)))\n",
    "    response = requests.get(link)\n",
    "    with open('flipkart_images/trousers.{0}.jpeg'.format(index), \"wb\") as file:\n",
    "        file.write(response.content)"
   ]
  },
  {
   "cell_type": "code",
   "execution_count": null,
   "metadata": {},
   "outputs": [],
   "source": []
  },
  {
   "cell_type": "code",
   "execution_count": null,
   "metadata": {},
   "outputs": [],
   "source": []
  },
  {
   "cell_type": "code",
   "execution_count": null,
   "metadata": {},
   "outputs": [],
   "source": []
  },
  {
   "cell_type": "code",
   "execution_count": null,
   "metadata": {},
   "outputs": [],
   "source": []
  },
  {
   "cell_type": "code",
   "execution_count": null,
   "metadata": {},
   "outputs": [],
   "source": []
  },
  {
   "cell_type": "code",
   "execution_count": null,
   "metadata": {},
   "outputs": [],
   "source": []
  },
  {
   "cell_type": "code",
   "execution_count": null,
   "metadata": {},
   "outputs": [],
   "source": []
  },
  {
   "cell_type": "code",
   "execution_count": null,
   "metadata": {},
   "outputs": [],
   "source": []
  },
  {
   "cell_type": "code",
   "execution_count": null,
   "metadata": {},
   "outputs": [],
   "source": []
  },
  {
   "cell_type": "code",
   "execution_count": null,
   "metadata": {},
   "outputs": [],
   "source": []
  },
  {
   "cell_type": "code",
   "execution_count": null,
   "metadata": {},
   "outputs": [],
   "source": []
  },
  {
   "cell_type": "code",
   "execution_count": null,
   "metadata": {},
   "outputs": [],
   "source": []
  },
  {
   "cell_type": "code",
   "execution_count": null,
   "metadata": {},
   "outputs": [],
   "source": []
  },
  {
   "cell_type": "code",
   "execution_count": null,
   "metadata": {},
   "outputs": [],
   "source": []
  },
  {
   "cell_type": "code",
   "execution_count": null,
   "metadata": {},
   "outputs": [],
   "source": []
  },
  {
   "cell_type": "code",
   "execution_count": null,
   "metadata": {},
   "outputs": [],
   "source": []
  },
  {
   "cell_type": "code",
   "execution_count": null,
   "metadata": {},
   "outputs": [],
   "source": []
  },
  {
   "cell_type": "code",
   "execution_count": null,
   "metadata": {},
   "outputs": [],
   "source": []
  },
  {
   "cell_type": "code",
   "execution_count": null,
   "metadata": {},
   "outputs": [],
   "source": []
  },
  {
   "cell_type": "code",
   "execution_count": null,
   "metadata": {},
   "outputs": [],
   "source": []
  },
  {
   "cell_type": "code",
   "execution_count": null,
   "metadata": {},
   "outputs": [],
   "source": []
  },
  {
   "cell_type": "code",
   "execution_count": null,
   "metadata": {},
   "outputs": [],
   "source": []
  },
  {
   "cell_type": "code",
   "execution_count": null,
   "metadata": {},
   "outputs": [],
   "source": []
  },
  {
   "cell_type": "code",
   "execution_count": null,
   "metadata": {},
   "outputs": [],
   "source": []
  },
  {
   "cell_type": "code",
   "execution_count": null,
   "metadata": {},
   "outputs": [],
   "source": []
  },
  {
   "cell_type": "code",
   "execution_count": null,
   "metadata": {},
   "outputs": [],
   "source": []
  },
  {
   "cell_type": "code",
   "execution_count": null,
   "metadata": {},
   "outputs": [],
   "source": []
  },
  {
   "cell_type": "code",
   "execution_count": null,
   "metadata": {},
   "outputs": [],
   "source": []
  },
  {
   "cell_type": "code",
   "execution_count": null,
   "metadata": {},
   "outputs": [],
   "source": []
  },
  {
   "cell_type": "code",
   "execution_count": null,
   "metadata": {},
   "outputs": [],
   "source": []
  },
  {
   "cell_type": "code",
   "execution_count": null,
   "metadata": {},
   "outputs": [],
   "source": []
  },
  {
   "cell_type": "code",
   "execution_count": null,
   "metadata": {},
   "outputs": [],
   "source": []
  },
  {
   "cell_type": "code",
   "execution_count": null,
   "metadata": {},
   "outputs": [],
   "source": []
  },
  {
   "cell_type": "code",
   "execution_count": null,
   "metadata": {},
   "outputs": [],
   "source": []
  },
  {
   "cell_type": "code",
   "execution_count": null,
   "metadata": {},
   "outputs": [],
   "source": []
  },
  {
   "cell_type": "code",
   "execution_count": null,
   "metadata": {},
   "outputs": [],
   "source": []
  },
  {
   "cell_type": "code",
   "execution_count": null,
   "metadata": {},
   "outputs": [],
   "source": []
  },
  {
   "cell_type": "code",
   "execution_count": null,
   "metadata": {},
   "outputs": [],
   "source": []
  },
  {
   "cell_type": "code",
   "execution_count": null,
   "metadata": {},
   "outputs": [],
   "source": []
  },
  {
   "cell_type": "code",
   "execution_count": null,
   "metadata": {},
   "outputs": [],
   "source": []
  },
  {
   "cell_type": "code",
   "execution_count": null,
   "metadata": {},
   "outputs": [],
   "source": []
  },
  {
   "cell_type": "code",
   "execution_count": null,
   "metadata": {},
   "outputs": [],
   "source": []
  },
  {
   "cell_type": "code",
   "execution_count": null,
   "metadata": {},
   "outputs": [],
   "source": []
  },
  {
   "cell_type": "code",
   "execution_count": null,
   "metadata": {},
   "outputs": [],
   "source": []
  },
  {
   "cell_type": "code",
   "execution_count": null,
   "metadata": {},
   "outputs": [],
   "source": []
  },
  {
   "cell_type": "code",
   "execution_count": null,
   "metadata": {},
   "outputs": [],
   "source": []
  },
  {
   "cell_type": "code",
   "execution_count": null,
   "metadata": {},
   "outputs": [],
   "source": []
  },
  {
   "cell_type": "code",
   "execution_count": null,
   "metadata": {},
   "outputs": [],
   "source": []
  },
  {
   "cell_type": "code",
   "execution_count": null,
   "metadata": {},
   "outputs": [],
   "source": []
  },
  {
   "cell_type": "code",
   "execution_count": null,
   "metadata": {},
   "outputs": [],
   "source": []
  },
  {
   "cell_type": "code",
   "execution_count": null,
   "metadata": {},
   "outputs": [],
   "source": []
  },
  {
   "cell_type": "code",
   "execution_count": null,
   "metadata": {},
   "outputs": [],
   "source": []
  },
  {
   "cell_type": "code",
   "execution_count": null,
   "metadata": {},
   "outputs": [],
   "source": []
  },
  {
   "cell_type": "code",
   "execution_count": null,
   "metadata": {},
   "outputs": [],
   "source": []
  },
  {
   "cell_type": "code",
   "execution_count": null,
   "metadata": {},
   "outputs": [],
   "source": []
  },
  {
   "cell_type": "code",
   "execution_count": null,
   "metadata": {},
   "outputs": [],
   "source": []
  },
  {
   "cell_type": "code",
   "execution_count": null,
   "metadata": {},
   "outputs": [],
   "source": []
  },
  {
   "cell_type": "code",
   "execution_count": null,
   "metadata": {},
   "outputs": [],
   "source": []
  },
  {
   "cell_type": "code",
   "execution_count": null,
   "metadata": {},
   "outputs": [],
   "source": []
  },
  {
   "cell_type": "code",
   "execution_count": null,
   "metadata": {},
   "outputs": [],
   "source": []
  },
  {
   "cell_type": "code",
   "execution_count": null,
   "metadata": {},
   "outputs": [],
   "source": []
  },
  {
   "cell_type": "code",
   "execution_count": null,
   "metadata": {},
   "outputs": [],
   "source": []
  },
  {
   "cell_type": "code",
   "execution_count": null,
   "metadata": {},
   "outputs": [],
   "source": []
  },
  {
   "cell_type": "code",
   "execution_count": null,
   "metadata": {},
   "outputs": [],
   "source": []
  }
 ],
 "metadata": {
  "kernelspec": {
   "display_name": "Python 3",
   "language": "python",
   "name": "python3"
  },
  "language_info": {
   "codemirror_mode": {
    "name": "ipython",
    "version": 3
   },
   "file_extension": ".py",
   "mimetype": "text/x-python",
   "name": "python",
   "nbconvert_exporter": "python",
   "pygments_lexer": "ipython3",
   "version": "3.7.4"
  }
 },
 "nbformat": 4,
 "nbformat_minor": 2
}
