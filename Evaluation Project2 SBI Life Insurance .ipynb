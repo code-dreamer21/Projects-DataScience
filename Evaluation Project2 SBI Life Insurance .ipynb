{
 "cells": [
  {
   "cell_type": "code",
   "execution_count": 12,
   "metadata": {},
   "outputs": [
    {
     "data": {
      "text/plain": [
       "'C:\\\\Users\\\\Sristi\\\\Documents\\\\R\\\\data'"
      ]
     },
     "execution_count": 12,
     "metadata": {},
     "output_type": "execute_result"
    }
   ],
   "source": [
    "import os\n",
    "os.chdir(\"C:/Users/Sristi/Documents/R/data\")\n",
    "os.getcwd()"
   ]
  },
  {
   "cell_type": "code",
   "execution_count": 13,
   "metadata": {},
   "outputs": [],
   "source": [
    "import pandas as pd"
   ]
  },
  {
   "cell_type": "code",
   "execution_count": 14,
   "metadata": {},
   "outputs": [],
   "source": [
    "df_insurance=pd.read_csv(\"SBI_Life_insurance.csv\", sep=\",\")"
   ]
  },
  {
   "cell_type": "code",
   "execution_count": 15,
   "metadata": {},
   "outputs": [
    {
     "data": {
      "text/html": [
       "<div>\n",
       "<style scoped>\n",
       "    .dataframe tbody tr th:only-of-type {\n",
       "        vertical-align: middle;\n",
       "    }\n",
       "\n",
       "    .dataframe tbody tr th {\n",
       "        vertical-align: top;\n",
       "    }\n",
       "\n",
       "    .dataframe thead th {\n",
       "        text-align: right;\n",
       "    }\n",
       "</style>\n",
       "<table border=\"1\" class=\"dataframe\">\n",
       "  <thead>\n",
       "    <tr style=\"text-align: right;\">\n",
       "      <th></th>\n",
       "      <th>age</th>\n",
       "      <th>sex</th>\n",
       "      <th>bmi</th>\n",
       "      <th>children</th>\n",
       "      <th>smoker</th>\n",
       "      <th>region</th>\n",
       "      <th>charges</th>\n",
       "      <th>insuranceclaim</th>\n",
       "    </tr>\n",
       "  </thead>\n",
       "  <tbody>\n",
       "    <tr>\n",
       "      <td>0</td>\n",
       "      <td>19</td>\n",
       "      <td>0</td>\n",
       "      <td>27.900</td>\n",
       "      <td>0</td>\n",
       "      <td>1</td>\n",
       "      <td>3</td>\n",
       "      <td>16884.92400</td>\n",
       "      <td>1</td>\n",
       "    </tr>\n",
       "    <tr>\n",
       "      <td>1</td>\n",
       "      <td>18</td>\n",
       "      <td>1</td>\n",
       "      <td>33.770</td>\n",
       "      <td>1</td>\n",
       "      <td>0</td>\n",
       "      <td>2</td>\n",
       "      <td>1725.55230</td>\n",
       "      <td>1</td>\n",
       "    </tr>\n",
       "    <tr>\n",
       "      <td>2</td>\n",
       "      <td>28</td>\n",
       "      <td>1</td>\n",
       "      <td>33.000</td>\n",
       "      <td>3</td>\n",
       "      <td>0</td>\n",
       "      <td>2</td>\n",
       "      <td>4449.46200</td>\n",
       "      <td>0</td>\n",
       "    </tr>\n",
       "    <tr>\n",
       "      <td>3</td>\n",
       "      <td>33</td>\n",
       "      <td>1</td>\n",
       "      <td>22.705</td>\n",
       "      <td>0</td>\n",
       "      <td>0</td>\n",
       "      <td>1</td>\n",
       "      <td>21984.47061</td>\n",
       "      <td>0</td>\n",
       "    </tr>\n",
       "    <tr>\n",
       "      <td>4</td>\n",
       "      <td>32</td>\n",
       "      <td>1</td>\n",
       "      <td>28.880</td>\n",
       "      <td>0</td>\n",
       "      <td>0</td>\n",
       "      <td>1</td>\n",
       "      <td>3866.85520</td>\n",
       "      <td>1</td>\n",
       "    </tr>\n",
       "    <tr>\n",
       "      <td>...</td>\n",
       "      <td>...</td>\n",
       "      <td>...</td>\n",
       "      <td>...</td>\n",
       "      <td>...</td>\n",
       "      <td>...</td>\n",
       "      <td>...</td>\n",
       "      <td>...</td>\n",
       "      <td>...</td>\n",
       "    </tr>\n",
       "    <tr>\n",
       "      <td>1333</td>\n",
       "      <td>50</td>\n",
       "      <td>1</td>\n",
       "      <td>30.970</td>\n",
       "      <td>3</td>\n",
       "      <td>0</td>\n",
       "      <td>1</td>\n",
       "      <td>10600.54830</td>\n",
       "      <td>0</td>\n",
       "    </tr>\n",
       "    <tr>\n",
       "      <td>1334</td>\n",
       "      <td>18</td>\n",
       "      <td>0</td>\n",
       "      <td>31.920</td>\n",
       "      <td>0</td>\n",
       "      <td>0</td>\n",
       "      <td>0</td>\n",
       "      <td>2205.98080</td>\n",
       "      <td>1</td>\n",
       "    </tr>\n",
       "    <tr>\n",
       "      <td>1335</td>\n",
       "      <td>18</td>\n",
       "      <td>0</td>\n",
       "      <td>36.850</td>\n",
       "      <td>0</td>\n",
       "      <td>0</td>\n",
       "      <td>2</td>\n",
       "      <td>1629.83350</td>\n",
       "      <td>1</td>\n",
       "    </tr>\n",
       "    <tr>\n",
       "      <td>1336</td>\n",
       "      <td>21</td>\n",
       "      <td>0</td>\n",
       "      <td>25.800</td>\n",
       "      <td>0</td>\n",
       "      <td>0</td>\n",
       "      <td>3</td>\n",
       "      <td>2007.94500</td>\n",
       "      <td>0</td>\n",
       "    </tr>\n",
       "    <tr>\n",
       "      <td>1337</td>\n",
       "      <td>61</td>\n",
       "      <td>0</td>\n",
       "      <td>29.070</td>\n",
       "      <td>0</td>\n",
       "      <td>1</td>\n",
       "      <td>1</td>\n",
       "      <td>29141.36030</td>\n",
       "      <td>1</td>\n",
       "    </tr>\n",
       "  </tbody>\n",
       "</table>\n",
       "<p>1338 rows × 8 columns</p>\n",
       "</div>"
      ],
      "text/plain": [
       "      age  sex     bmi  children  smoker  region      charges  insuranceclaim\n",
       "0      19    0  27.900         0       1       3  16884.92400               1\n",
       "1      18    1  33.770         1       0       2   1725.55230               1\n",
       "2      28    1  33.000         3       0       2   4449.46200               0\n",
       "3      33    1  22.705         0       0       1  21984.47061               0\n",
       "4      32    1  28.880         0       0       1   3866.85520               1\n",
       "...   ...  ...     ...       ...     ...     ...          ...             ...\n",
       "1333   50    1  30.970         3       0       1  10600.54830               0\n",
       "1334   18    0  31.920         0       0       0   2205.98080               1\n",
       "1335   18    0  36.850         0       0       2   1629.83350               1\n",
       "1336   21    0  25.800         0       0       3   2007.94500               0\n",
       "1337   61    0  29.070         0       1       1  29141.36030               1\n",
       "\n",
       "[1338 rows x 8 columns]"
      ]
     },
     "execution_count": 15,
     "metadata": {},
     "output_type": "execute_result"
    }
   ],
   "source": [
    "df_insurance"
   ]
  },
  {
   "cell_type": "code",
   "execution_count": 16,
   "metadata": {},
   "outputs": [],
   "source": [
    "import seaborn as sns\n",
    "import matplotlib.pyplot as plt\n"
   ]
  },
  {
   "cell_type": "code",
   "execution_count": 43,
   "metadata": {},
   "outputs": [
    {
     "data": {
      "image/png": "[encoded data removed]",
      "text/plain": [
       "<Figure size 432x288 with 2 Axes>"
      ]
     },
     "metadata": {
      "needs_background": "light"
     },
     "output_type": "display_data"
    }
   ],
   "source": [
    "#Heatmap visualization to check null values\n",
    "sns.heatmap(df_insurance.isnull(),annot=True)\n",
    "plt.show()"
   ]
  },
  {
   "cell_type": "code",
   "execution_count": 18,
   "metadata": {},
   "outputs": [
    {
     "data": {
      "text/plain": [
       "age               0\n",
       "sex               0\n",
       "bmi               0\n",
       "children          0\n",
       "smoker            0\n",
       "region            0\n",
       "charges           0\n",
       "insuranceclaim    0\n",
       "dtype: int64"
      ]
     },
     "execution_count": 18,
     "metadata": {},
     "output_type": "execute_result"
    }
   ],
   "source": [
    "#Check null values without visualization\n",
    "df_insurance.isnull().sum()"
   ]
  },
  {
   "cell_type": "code",
   "execution_count": 19,
   "metadata": {},
   "outputs": [
    {
     "name": "stdout",
     "output_type": "stream",
     "text": [
      "(1338, 8)\n"
     ]
    }
   ],
   "source": [
    "#To check outliers\n",
    "from scipy.stats import zscore\n",
    "z_score=abs(zscore(df_insurance))\n",
    "print(df_insurance.shape)"
   ]
  },
  {
   "cell_type": "code",
   "execution_count": 20,
   "metadata": {},
   "outputs": [
    {
     "name": "stdout",
     "output_type": "stream",
     "text": [
      "(1309, 8)\n"
     ]
    }
   ],
   "source": [
    "df_insurance_znew=df_insurance.loc[(z_score<3).all(axis=1)]\n",
    "print(df_insurance_znew.shape)"
   ]
  },
  {
   "cell_type": "code",
   "execution_count": 21,
   "metadata": {},
   "outputs": [
    {
     "data": {
      "image/png": "[encoded data removed]",
      "text/plain": [
       "<Figure size 432x288 with 1 Axes>"
      ]
     },
     "metadata": {
      "needs_background": "light"
     },
     "output_type": "display_data"
    }
   ],
   "source": [
    "#Lineplot to show charges w.r.t age\n",
    "sns.lineplot(x=df_insurance[\"age\"], y=df_insurance[\"charges\"], data=df_insurance)\n",
    "plt.show()\n",
    "#We see below, insurance charge increasing with age"
   ]
  },
  {
   "cell_type": "code",
   "execution_count": 22,
   "metadata": {},
   "outputs": [
    {
     "data": {
      "image/png": "[encoded data removed]",
      "text/plain": [
       "<Figure size 432x288 with 1 Axes>"
      ]
     },
     "metadata": {
      "needs_background": "light"
     },
     "output_type": "display_data"
    }
   ],
   "source": [
    "#barplot to check charges w.r.t. sex\n",
    "sns.barplot(x=df_insurance[\"sex\"], y=df_insurance[\"charges\"], data=df_insurance)\n",
    "plt.show()"
   ]
  },
  {
   "cell_type": "code",
   "execution_count": 23,
   "metadata": {},
   "outputs": [
    {
     "data": {
      "image/png": "[encoded data removed]",
      "text/plain": [
       "<Figure size 432x288 with 1 Axes>"
      ]
     },
     "metadata": {
      "needs_background": "light"
     },
     "output_type": "display_data"
    }
   ],
   "source": [
    "#To check the insurance charges for children of different category\n",
    "sns.barplot(x=df_insurance[\"children\"], y=df_insurance[\"charges\"], data=df_insurance)\n",
    "plt.show()"
   ]
  },
  {
   "cell_type": "code",
   "execution_count": 24,
   "metadata": {},
   "outputs": [
    {
     "data": {
      "text/plain": [
       "age               0.055673\n",
       "sex              -0.020951\n",
       "bmi               0.284047\n",
       "children          0.938380\n",
       "smoker            1.464766\n",
       "region           -0.038101\n",
       "charges           1.515880\n",
       "insuranceclaim   -0.346254\n",
       "dtype: float64"
      ]
     },
     "execution_count": 24,
     "metadata": {},
     "output_type": "execute_result"
    }
   ],
   "source": [
    "#to check skewness\n",
    "df_insurance.skew()\n",
    "#Skewness is not acceptable for few parameters"
   ]
  },
  {
   "cell_type": "code",
   "execution_count": 25,
   "metadata": {},
   "outputs": [
    {
     "data": {
      "image/png": "[encoded data removed]",
      "text/plain": [
       "<Figure size 432x288 with 1 Axes>"
      ]
     },
     "metadata": {
      "needs_background": "light"
     },
     "output_type": "display_data"
    }
   ],
   "source": [
    "#Charges w.r.t region\n",
    "sns.barplot(x=df_insurance[\"region\"], y=df_insurance[\"charges\"], data=df_insurance)\n",
    "plt.show()"
   ]
  },
  {
   "cell_type": "code",
   "execution_count": 26,
   "metadata": {},
   "outputs": [
    {
     "data": {
      "image/png": "[encoded data removed]",
      "text/plain": [
       "<Figure size 432x288 with 1 Axes>"
      ]
     },
     "metadata": {
      "needs_background": "light"
     },
     "output_type": "display_data"
    }
   ],
   "source": [
    "plt.hist(x=\"bmi\", bins=10, data=df_insurance)\n",
    "plt.show()"
   ]
  },
  {
   "cell_type": "code",
   "execution_count": 27,
   "metadata": {},
   "outputs": [
    {
     "data": {
      "text/plain": [
       "age                 int64\n",
       "sex                 int64\n",
       "bmi               float64\n",
       "children            int64\n",
       "smoker              int64\n",
       "region              int64\n",
       "charges           float64\n",
       "insuranceclaim      int64\n",
       "dtype: object"
      ]
     },
     "execution_count": 27,
     "metadata": {},
     "output_type": "execute_result"
    }
   ],
   "source": [
    "df_insurance.dtypes"
   ]
  },
  {
   "cell_type": "code",
   "execution_count": 28,
   "metadata": {},
   "outputs": [
    {
     "data": {
      "text/html": [
       "<div>\n",
       "<style scoped>\n",
       "    .dataframe tbody tr th:only-of-type {\n",
       "        vertical-align: middle;\n",
       "    }\n",
       "\n",
       "    .dataframe tbody tr th {\n",
       "        vertical-align: top;\n",
       "    }\n",
       "\n",
       "    .dataframe thead th {\n",
       "        text-align: right;\n",
       "    }\n",
       "</style>\n",
       "<table border=\"1\" class=\"dataframe\">\n",
       "  <thead>\n",
       "    <tr style=\"text-align: right;\">\n",
       "      <th></th>\n",
       "      <th>age</th>\n",
       "      <th>sex</th>\n",
       "      <th>bmi</th>\n",
       "      <th>children</th>\n",
       "      <th>smoker</th>\n",
       "      <th>region</th>\n",
       "      <th>charges</th>\n",
       "      <th>insuranceclaim</th>\n",
       "    </tr>\n",
       "  </thead>\n",
       "  <tbody>\n",
       "    <tr>\n",
       "      <td>age</td>\n",
       "      <td>1.000000</td>\n",
       "      <td>-0.020856</td>\n",
       "      <td>0.109272</td>\n",
       "      <td>0.042469</td>\n",
       "      <td>-0.025019</td>\n",
       "      <td>0.002127</td>\n",
       "      <td>0.299008</td>\n",
       "      <td>0.113723</td>\n",
       "    </tr>\n",
       "    <tr>\n",
       "      <td>sex</td>\n",
       "      <td>-0.020856</td>\n",
       "      <td>1.000000</td>\n",
       "      <td>0.046371</td>\n",
       "      <td>0.017163</td>\n",
       "      <td>0.076185</td>\n",
       "      <td>0.004588</td>\n",
       "      <td>0.057292</td>\n",
       "      <td>0.031565</td>\n",
       "    </tr>\n",
       "    <tr>\n",
       "      <td>bmi</td>\n",
       "      <td>0.109272</td>\n",
       "      <td>0.046371</td>\n",
       "      <td>1.000000</td>\n",
       "      <td>0.012759</td>\n",
       "      <td>0.003750</td>\n",
       "      <td>0.157566</td>\n",
       "      <td>0.198341</td>\n",
       "      <td>0.384198</td>\n",
       "    </tr>\n",
       "    <tr>\n",
       "      <td>children</td>\n",
       "      <td>0.042469</td>\n",
       "      <td>0.017163</td>\n",
       "      <td>0.012759</td>\n",
       "      <td>1.000000</td>\n",
       "      <td>0.007673</td>\n",
       "      <td>0.016569</td>\n",
       "      <td>0.067998</td>\n",
       "      <td>-0.409526</td>\n",
       "    </tr>\n",
       "    <tr>\n",
       "      <td>smoker</td>\n",
       "      <td>-0.025019</td>\n",
       "      <td>0.076185</td>\n",
       "      <td>0.003750</td>\n",
       "      <td>0.007673</td>\n",
       "      <td>1.000000</td>\n",
       "      <td>-0.002181</td>\n",
       "      <td>0.787251</td>\n",
       "      <td>0.333261</td>\n",
       "    </tr>\n",
       "    <tr>\n",
       "      <td>region</td>\n",
       "      <td>0.002127</td>\n",
       "      <td>0.004588</td>\n",
       "      <td>0.157566</td>\n",
       "      <td>0.016569</td>\n",
       "      <td>-0.002181</td>\n",
       "      <td>1.000000</td>\n",
       "      <td>-0.006208</td>\n",
       "      <td>0.020891</td>\n",
       "    </tr>\n",
       "    <tr>\n",
       "      <td>charges</td>\n",
       "      <td>0.299008</td>\n",
       "      <td>0.057292</td>\n",
       "      <td>0.198341</td>\n",
       "      <td>0.067998</td>\n",
       "      <td>0.787251</td>\n",
       "      <td>-0.006208</td>\n",
       "      <td>1.000000</td>\n",
       "      <td>0.309418</td>\n",
       "    </tr>\n",
       "    <tr>\n",
       "      <td>insuranceclaim</td>\n",
       "      <td>0.113723</td>\n",
       "      <td>0.031565</td>\n",
       "      <td>0.384198</td>\n",
       "      <td>-0.409526</td>\n",
       "      <td>0.333261</td>\n",
       "      <td>0.020891</td>\n",
       "      <td>0.309418</td>\n",
       "      <td>1.000000</td>\n",
       "    </tr>\n",
       "  </tbody>\n",
       "</table>\n",
       "</div>"
      ],
      "text/plain": [
       "                     age       sex       bmi  children    smoker    region  \\\n",
       "age             1.000000 -0.020856  0.109272  0.042469 -0.025019  0.002127   \n",
       "sex            -0.020856  1.000000  0.046371  0.017163  0.076185  0.004588   \n",
       "bmi             0.109272  0.046371  1.000000  0.012759  0.003750  0.157566   \n",
       "children        0.042469  0.017163  0.012759  1.000000  0.007673  0.016569   \n",
       "smoker         -0.025019  0.076185  0.003750  0.007673  1.000000 -0.002181   \n",
       "region          0.002127  0.004588  0.157566  0.016569 -0.002181  1.000000   \n",
       "charges         0.299008  0.057292  0.198341  0.067998  0.787251 -0.006208   \n",
       "insuranceclaim  0.113723  0.031565  0.384198 -0.409526  0.333261  0.020891   \n",
       "\n",
       "                 charges  insuranceclaim  \n",
       "age             0.299008        0.113723  \n",
       "sex             0.057292        0.031565  \n",
       "bmi             0.198341        0.384198  \n",
       "children        0.067998       -0.409526  \n",
       "smoker          0.787251        0.333261  \n",
       "region         -0.006208        0.020891  \n",
       "charges         1.000000        0.309418  \n",
       "insuranceclaim  0.309418        1.000000  "
      ]
     },
     "execution_count": 28,
     "metadata": {},
     "output_type": "execute_result"
    }
   ],
   "source": [
    "df_insurance.corr()"
   ]
  },
  {
   "cell_type": "code",
   "execution_count": 29,
   "metadata": {},
   "outputs": [
    {
     "data": {
      "text/html": [
       "<div>\n",
       "<style scoped>\n",
       "    .dataframe tbody tr th:only-of-type {\n",
       "        vertical-align: middle;\n",
       "    }\n",
       "\n",
       "    .dataframe tbody tr th {\n",
       "        vertical-align: top;\n",
       "    }\n",
       "\n",
       "    .dataframe thead th {\n",
       "        text-align: right;\n",
       "    }\n",
       "</style>\n",
       "<table border=\"1\" class=\"dataframe\">\n",
       "  <thead>\n",
       "    <tr style=\"text-align: right;\">\n",
       "      <th></th>\n",
       "      <th>age</th>\n",
       "      <th>sex</th>\n",
       "      <th>bmi</th>\n",
       "      <th>children</th>\n",
       "      <th>smoker</th>\n",
       "      <th>region</th>\n",
       "      <th>charges</th>\n",
       "      <th>insuranceclaim</th>\n",
       "    </tr>\n",
       "  </thead>\n",
       "  <tbody>\n",
       "    <tr>\n",
       "      <td>count</td>\n",
       "      <td>1338.000000</td>\n",
       "      <td>1338.000000</td>\n",
       "      <td>1338.000000</td>\n",
       "      <td>1338.000000</td>\n",
       "      <td>1338.000000</td>\n",
       "      <td>1338.000000</td>\n",
       "      <td>1338.000000</td>\n",
       "      <td>1338.000000</td>\n",
       "    </tr>\n",
       "    <tr>\n",
       "      <td>mean</td>\n",
       "      <td>39.207025</td>\n",
       "      <td>0.505232</td>\n",
       "      <td>30.663397</td>\n",
       "      <td>1.094918</td>\n",
       "      <td>0.204783</td>\n",
       "      <td>1.515695</td>\n",
       "      <td>13270.422265</td>\n",
       "      <td>0.585202</td>\n",
       "    </tr>\n",
       "    <tr>\n",
       "      <td>std</td>\n",
       "      <td>14.049960</td>\n",
       "      <td>0.500160</td>\n",
       "      <td>6.098187</td>\n",
       "      <td>1.205493</td>\n",
       "      <td>0.403694</td>\n",
       "      <td>1.104885</td>\n",
       "      <td>12110.011237</td>\n",
       "      <td>0.492871</td>\n",
       "    </tr>\n",
       "    <tr>\n",
       "      <td>min</td>\n",
       "      <td>18.000000</td>\n",
       "      <td>0.000000</td>\n",
       "      <td>15.960000</td>\n",
       "      <td>0.000000</td>\n",
       "      <td>0.000000</td>\n",
       "      <td>0.000000</td>\n",
       "      <td>1121.873900</td>\n",
       "      <td>0.000000</td>\n",
       "    </tr>\n",
       "    <tr>\n",
       "      <td>25%</td>\n",
       "      <td>27.000000</td>\n",
       "      <td>0.000000</td>\n",
       "      <td>26.296250</td>\n",
       "      <td>0.000000</td>\n",
       "      <td>0.000000</td>\n",
       "      <td>1.000000</td>\n",
       "      <td>4740.287150</td>\n",
       "      <td>0.000000</td>\n",
       "    </tr>\n",
       "    <tr>\n",
       "      <td>50%</td>\n",
       "      <td>39.000000</td>\n",
       "      <td>1.000000</td>\n",
       "      <td>30.400000</td>\n",
       "      <td>1.000000</td>\n",
       "      <td>0.000000</td>\n",
       "      <td>2.000000</td>\n",
       "      <td>9382.033000</td>\n",
       "      <td>1.000000</td>\n",
       "    </tr>\n",
       "    <tr>\n",
       "      <td>75%</td>\n",
       "      <td>51.000000</td>\n",
       "      <td>1.000000</td>\n",
       "      <td>34.693750</td>\n",
       "      <td>2.000000</td>\n",
       "      <td>0.000000</td>\n",
       "      <td>2.000000</td>\n",
       "      <td>16639.912515</td>\n",
       "      <td>1.000000</td>\n",
       "    </tr>\n",
       "    <tr>\n",
       "      <td>max</td>\n",
       "      <td>64.000000</td>\n",
       "      <td>1.000000</td>\n",
       "      <td>53.130000</td>\n",
       "      <td>5.000000</td>\n",
       "      <td>1.000000</td>\n",
       "      <td>3.000000</td>\n",
       "      <td>63770.428010</td>\n",
       "      <td>1.000000</td>\n",
       "    </tr>\n",
       "  </tbody>\n",
       "</table>\n",
       "</div>"
      ],
      "text/plain": [
       "               age          sex          bmi     children       smoker  \\\n",
       "count  1338.000000  1338.000000  1338.000000  1338.000000  1338.000000   \n",
       "mean     39.207025     0.505232    30.663397     1.094918     0.204783   \n",
       "std      14.049960     0.500160     6.098187     1.205493     0.403694   \n",
       "min      18.000000     0.000000    15.960000     0.000000     0.000000   \n",
       "25%      27.000000     0.000000    26.296250     0.000000     0.000000   \n",
       "50%      39.000000     1.000000    30.400000     1.000000     0.000000   \n",
       "75%      51.000000     1.000000    34.693750     2.000000     0.000000   \n",
       "max      64.000000     1.000000    53.130000     5.000000     1.000000   \n",
       "\n",
       "            region       charges  insuranceclaim  \n",
       "count  1338.000000   1338.000000     1338.000000  \n",
       "mean      1.515695  13270.422265        0.585202  \n",
       "std       1.104885  12110.011237        0.492871  \n",
       "min       0.000000   1121.873900        0.000000  \n",
       "25%       1.000000   4740.287150        0.000000  \n",
       "50%       2.000000   9382.033000        1.000000  \n",
       "75%       2.000000  16639.912515        1.000000  \n",
       "max       3.000000  63770.428010        1.000000  "
      ]
     },
     "execution_count": 29,
     "metadata": {},
     "output_type": "execute_result"
    }
   ],
   "source": [
    "df_insurance.describe()"
   ]
  },
  {
   "cell_type": "code",
   "execution_count": 30,
   "metadata": {},
   "outputs": [],
   "source": [
    "#Treating Skewness\n",
    "import numpy as np\n",
    "for col in df_insurance.columns:\n",
    "    if df_insurance.skew().loc[col]>0.55:\n",
    "        df_insurance[col]=np.log1p(df_insurance[col])"
   ]
  },
  {
   "cell_type": "code",
   "execution_count": 31,
   "metadata": {},
   "outputs": [
    {
     "data": {
      "text/plain": [
       "age               0.055673\n",
       "sex              -0.020951\n",
       "bmi               0.284047\n",
       "children          0.264083\n",
       "smoker            1.464766\n",
       "region           -0.038101\n",
       "charges          -0.089817\n",
       "insuranceclaim   -0.346254\n",
       "dtype: float64"
      ]
     },
     "execution_count": 31,
     "metadata": {},
     "output_type": "execute_result"
    }
   ],
   "source": [
    "df_insurance.skew()"
   ]
  },
  {
   "cell_type": "code",
   "execution_count": 32,
   "metadata": {},
   "outputs": [],
   "source": [
    "#Still skewness for column Smoker is 1.We can drop the column\n",
    "df_insurance.drop(\"smoker\", axis=1, inplace=True)"
   ]
  },
  {
   "cell_type": "code",
   "execution_count": 33,
   "metadata": {},
   "outputs": [
    {
     "data": {
      "text/html": [
       "<div>\n",
       "<style scoped>\n",
       "    .dataframe tbody tr th:only-of-type {\n",
       "        vertical-align: middle;\n",
       "    }\n",
       "\n",
       "    .dataframe tbody tr th {\n",
       "        vertical-align: top;\n",
       "    }\n",
       "\n",
       "    .dataframe thead th {\n",
       "        text-align: right;\n",
       "    }\n",
       "</style>\n",
       "<table border=\"1\" class=\"dataframe\">\n",
       "  <thead>\n",
       "    <tr style=\"text-align: right;\">\n",
       "      <th></th>\n",
       "      <th>age</th>\n",
       "      <th>sex</th>\n",
       "      <th>bmi</th>\n",
       "      <th>children</th>\n",
       "      <th>region</th>\n",
       "      <th>charges</th>\n",
       "      <th>insuranceclaim</th>\n",
       "    </tr>\n",
       "  </thead>\n",
       "  <tbody>\n",
       "    <tr>\n",
       "      <td>0</td>\n",
       "      <td>19</td>\n",
       "      <td>0</td>\n",
       "      <td>27.900</td>\n",
       "      <td>0.000000</td>\n",
       "      <td>3</td>\n",
       "      <td>9.734236</td>\n",
       "      <td>1</td>\n",
       "    </tr>\n",
       "    <tr>\n",
       "      <td>1</td>\n",
       "      <td>18</td>\n",
       "      <td>1</td>\n",
       "      <td>33.770</td>\n",
       "      <td>0.693147</td>\n",
       "      <td>2</td>\n",
       "      <td>7.453882</td>\n",
       "      <td>1</td>\n",
       "    </tr>\n",
       "    <tr>\n",
       "      <td>2</td>\n",
       "      <td>28</td>\n",
       "      <td>1</td>\n",
       "      <td>33.000</td>\n",
       "      <td>1.386294</td>\n",
       "      <td>2</td>\n",
       "      <td>8.400763</td>\n",
       "      <td>0</td>\n",
       "    </tr>\n",
       "    <tr>\n",
       "      <td>3</td>\n",
       "      <td>33</td>\n",
       "      <td>1</td>\n",
       "      <td>22.705</td>\n",
       "      <td>0.000000</td>\n",
       "      <td>1</td>\n",
       "      <td>9.998137</td>\n",
       "      <td>0</td>\n",
       "    </tr>\n",
       "    <tr>\n",
       "      <td>4</td>\n",
       "      <td>32</td>\n",
       "      <td>1</td>\n",
       "      <td>28.880</td>\n",
       "      <td>0.000000</td>\n",
       "      <td>1</td>\n",
       "      <td>8.260455</td>\n",
       "      <td>1</td>\n",
       "    </tr>\n",
       "    <tr>\n",
       "      <td>...</td>\n",
       "      <td>...</td>\n",
       "      <td>...</td>\n",
       "      <td>...</td>\n",
       "      <td>...</td>\n",
       "      <td>...</td>\n",
       "      <td>...</td>\n",
       "      <td>...</td>\n",
       "    </tr>\n",
       "    <tr>\n",
       "      <td>1333</td>\n",
       "      <td>50</td>\n",
       "      <td>1</td>\n",
       "      <td>30.970</td>\n",
       "      <td>1.386294</td>\n",
       "      <td>1</td>\n",
       "      <td>9.268755</td>\n",
       "      <td>0</td>\n",
       "    </tr>\n",
       "    <tr>\n",
       "      <td>1334</td>\n",
       "      <td>18</td>\n",
       "      <td>0</td>\n",
       "      <td>31.920</td>\n",
       "      <td>0.000000</td>\n",
       "      <td>0</td>\n",
       "      <td>7.699381</td>\n",
       "      <td>1</td>\n",
       "    </tr>\n",
       "    <tr>\n",
       "      <td>1335</td>\n",
       "      <td>18</td>\n",
       "      <td>0</td>\n",
       "      <td>36.850</td>\n",
       "      <td>0.000000</td>\n",
       "      <td>2</td>\n",
       "      <td>7.396847</td>\n",
       "      <td>1</td>\n",
       "    </tr>\n",
       "    <tr>\n",
       "      <td>1336</td>\n",
       "      <td>21</td>\n",
       "      <td>0</td>\n",
       "      <td>25.800</td>\n",
       "      <td>0.000000</td>\n",
       "      <td>3</td>\n",
       "      <td>7.605365</td>\n",
       "      <td>0</td>\n",
       "    </tr>\n",
       "    <tr>\n",
       "      <td>1337</td>\n",
       "      <td>61</td>\n",
       "      <td>0</td>\n",
       "      <td>29.070</td>\n",
       "      <td>0.000000</td>\n",
       "      <td>1</td>\n",
       "      <td>10.279948</td>\n",
       "      <td>1</td>\n",
       "    </tr>\n",
       "  </tbody>\n",
       "</table>\n",
       "<p>1338 rows × 7 columns</p>\n",
       "</div>"
      ],
      "text/plain": [
       "      age  sex     bmi  children  region    charges  insuranceclaim\n",
       "0      19    0  27.900  0.000000       3   9.734236               1\n",
       "1      18    1  33.770  0.693147       2   7.453882               1\n",
       "2      28    1  33.000  1.386294       2   8.400763               0\n",
       "3      33    1  22.705  0.000000       1   9.998137               0\n",
       "4      32    1  28.880  0.000000       1   8.260455               1\n",
       "...   ...  ...     ...       ...     ...        ...             ...\n",
       "1333   50    1  30.970  1.386294       1   9.268755               0\n",
       "1334   18    0  31.920  0.000000       0   7.699381               1\n",
       "1335   18    0  36.850  0.000000       2   7.396847               1\n",
       "1336   21    0  25.800  0.000000       3   7.605365               0\n",
       "1337   61    0  29.070  0.000000       1  10.279948               1\n",
       "\n",
       "[1338 rows x 7 columns]"
      ]
     },
     "execution_count": 33,
     "metadata": {},
     "output_type": "execute_result"
    }
   ],
   "source": [
    "df_insurance"
   ]
  },
  {
   "cell_type": "code",
   "execution_count": 34,
   "metadata": {},
   "outputs": [
    {
     "data": {
      "text/plain": [
       "age               0.055673\n",
       "sex              -0.020951\n",
       "bmi               0.284047\n",
       "children          0.264083\n",
       "region           -0.038101\n",
       "charges          -0.089817\n",
       "insuranceclaim   -0.346254\n",
       "dtype: float64"
      ]
     },
     "execution_count": 34,
     "metadata": {},
     "output_type": "execute_result"
    }
   ],
   "source": [
    "#We check Skewness again\n",
    "df_insurance.skew()"
   ]
  },
  {
   "cell_type": "code",
   "execution_count": 35,
   "metadata": {},
   "outputs": [],
   "source": [
    "#Defining input and output variable for linear regression\n",
    "x=df_insurance[[\"age\"]]\n",
    "y=df_insurance[[\"charges\"]]"
   ]
  },
  {
   "cell_type": "code",
   "execution_count": 36,
   "metadata": {},
   "outputs": [
    {
     "data": {
      "text/plain": [
       "array([[-1.43876426],\n",
       "       [-1.50996545],\n",
       "       [-0.79795355],\n",
       "       ...,\n",
       "       [-1.50996545],\n",
       "       [-1.29636188],\n",
       "       [ 1.55168573]])"
      ]
     },
     "execution_count": 36,
     "metadata": {},
     "output_type": "execute_result"
    }
   ],
   "source": [
    "#Scaling because we removed outliers\n",
    "from sklearn.preprocessing import StandardScaler\n",
    "sc = StandardScaler()\n",
    "x = sc.fit_transform(x)\n",
    "x"
   ]
  },
  {
   "cell_type": "code",
   "execution_count": 37,
   "metadata": {},
   "outputs": [
    {
     "name": "stdout",
     "output_type": "stream",
     "text": [
      "r2_score corresponding to random state:  42  is:  0.3375820529595136\n",
      "\n",
      "\n",
      "max r2 score corresponding to  42  is  0.3375820529595136\n",
      "r2_score corresponding to random state:  43  is:  0.163162916330438\n",
      "\n",
      "\n",
      "max r2 score corresponding to  42  is  0.3375820529595136\n",
      "r2_score corresponding to random state:  44  is:  0.22793352272731504\n",
      "\n",
      "\n",
      "max r2 score corresponding to  42  is  0.3375820529595136\n",
      "r2_score corresponding to random state:  45  is:  0.3043189520444767\n",
      "\n",
      "\n",
      "max r2 score corresponding to  42  is  0.3375820529595136\n",
      "r2_score corresponding to random state:  46  is:  0.23643690621642244\n",
      "\n",
      "\n",
      "max r2 score corresponding to  42  is  0.3375820529595136\n",
      "r2_score corresponding to random state:  47  is:  0.29391201406967415\n",
      "\n",
      "\n",
      "max r2 score corresponding to  42  is  0.3375820529595136\n",
      "r2_score corresponding to random state:  48  is:  0.35404445876732904\n",
      "\n",
      "\n",
      "max r2 score corresponding to  48  is  0.35404445876732904\n",
      "r2_score corresponding to random state:  49  is:  0.3508425039732376\n",
      "\n",
      "\n",
      "max r2 score corresponding to  48  is  0.35404445876732904\n",
      "r2_score corresponding to random state:  50  is:  0.3033970959231663\n",
      "\n",
      "\n",
      "max r2 score corresponding to  48  is  0.35404445876732904\n",
      "r2_score corresponding to random state:  51  is:  0.3248512928446581\n",
      "\n",
      "\n",
      "max r2 score corresponding to  48  is  0.35404445876732904\n",
      "r2_score corresponding to random state:  52  is:  0.22641510232153972\n",
      "\n",
      "\n",
      "max r2 score corresponding to  48  is  0.35404445876732904\n",
      "r2_score corresponding to random state:  53  is:  0.42279425408152616\n",
      "\n",
      "\n",
      "max r2 score corresponding to  53  is  0.42279425408152616\n",
      "r2_score corresponding to random state:  54  is:  0.2072021950573114\n",
      "\n",
      "\n",
      "max r2 score corresponding to  53  is  0.42279425408152616\n",
      "r2_score corresponding to random state:  55  is:  0.2199311415517855\n",
      "\n",
      "\n",
      "max r2 score corresponding to  53  is  0.42279425408152616\n",
      "r2_score corresponding to random state:  56  is:  0.29837432843436684\n",
      "\n",
      "\n",
      "max r2 score corresponding to  53  is  0.42279425408152616\n",
      "r2_score corresponding to random state:  57  is:  0.3029634847287952\n",
      "\n",
      "\n",
      "max r2 score corresponding to  53  is  0.42279425408152616\n",
      "r2_score corresponding to random state:  58  is:  0.2439135148541427\n",
      "\n",
      "\n",
      "max r2 score corresponding to  53  is  0.42279425408152616\n",
      "r2_score corresponding to random state:  59  is:  0.32419590674597354\n",
      "\n",
      "\n",
      "max r2 score corresponding to  53  is  0.42279425408152616\n",
      "r2_score corresponding to random state:  60  is:  0.24726684344007643\n",
      "\n",
      "\n",
      "max r2 score corresponding to  53  is  0.42279425408152616\n",
      "r2_score corresponding to random state:  61  is:  0.2232879068248046\n",
      "\n",
      "\n",
      "max r2 score corresponding to  53  is  0.42279425408152616\n",
      "r2_score corresponding to random state:  62  is:  0.2044886023146253\n",
      "\n",
      "\n",
      "max r2 score corresponding to  53  is  0.42279425408152616\n",
      "r2_score corresponding to random state:  63  is:  0.2696114271224287\n",
      "\n",
      "\n",
      "max r2 score corresponding to  53  is  0.42279425408152616\n",
      "r2_score corresponding to random state:  64  is:  0.26521116262392075\n",
      "\n",
      "\n",
      "max r2 score corresponding to  53  is  0.42279425408152616\n",
      "r2_score corresponding to random state:  65  is:  0.30607163437742346\n",
      "\n",
      "\n",
      "max r2 score corresponding to  53  is  0.42279425408152616\n",
      "r2_score corresponding to random state:  66  is:  0.2580651487333214\n",
      "\n",
      "\n",
      "max r2 score corresponding to  53  is  0.42279425408152616\n",
      "r2_score corresponding to random state:  67  is:  0.26231560019579736\n",
      "\n",
      "\n",
      "max r2 score corresponding to  53  is  0.42279425408152616\n",
      "r2_score corresponding to random state:  68  is:  0.3460433090531366\n",
      "\n",
      "\n",
      "max r2 score corresponding to  53  is  0.42279425408152616\n",
      "r2_score corresponding to random state:  69  is:  0.314931830724107\n",
      "\n",
      "\n",
      "max r2 score corresponding to  53  is  0.42279425408152616\n",
      "r2_score corresponding to random state:  70  is:  0.2622059953030377\n",
      "\n",
      "\n",
      "max r2 score corresponding to  53  is  0.42279425408152616\n",
      "r2_score corresponding to random state:  71  is:  0.20233186505265088\n",
      "\n",
      "\n",
      "max r2 score corresponding to  53  is  0.42279425408152616\n",
      "r2_score corresponding to random state:  72  is:  0.2464586850283037\n",
      "\n",
      "\n",
      "max r2 score corresponding to  53  is  0.42279425408152616\n",
      "r2_score corresponding to random state:  73  is:  0.1999306283637794\n",
      "\n",
      "\n",
      "max r2 score corresponding to  53  is  0.42279425408152616\n",
      "r2_score corresponding to random state:  74  is:  0.2671990617196307\n",
      "\n",
      "\n",
      "max r2 score corresponding to  53  is  0.42279425408152616\n",
      "r2_score corresponding to random state:  75  is:  0.2958640924351088\n",
      "\n",
      "\n",
      "max r2 score corresponding to  53  is  0.42279425408152616\n",
      "r2_score corresponding to random state:  76  is:  0.2612010286976888\n",
      "\n",
      "\n",
      "max r2 score corresponding to  53  is  0.42279425408152616\n",
      "r2_score corresponding to random state:  77  is:  0.2836504334496348\n",
      "\n",
      "\n",
      "max r2 score corresponding to  53  is  0.42279425408152616\n",
      "r2_score corresponding to random state:  78  is:  0.2968169821671546\n",
      "\n",
      "\n",
      "max r2 score corresponding to  53  is  0.42279425408152616\n",
      "r2_score corresponding to random state:  79  is:  0.28700713353734575\n",
      "\n",
      "\n",
      "max r2 score corresponding to  53  is  0.42279425408152616\n",
      "r2_score corresponding to random state:  80  is:  0.2895407467713602\n",
      "\n",
      "\n",
      "max r2 score corresponding to  53  is  0.42279425408152616\n",
      "r2_score corresponding to random state:  81  is:  0.2998796982584493\n",
      "\n",
      "\n",
      "max r2 score corresponding to  53  is  0.42279425408152616\n",
      "r2_score corresponding to random state:  82  is:  0.3539654986542856\n",
      "\n",
      "\n",
      "max r2 score corresponding to  53  is  0.42279425408152616\n",
      "r2_score corresponding to random state:  83  is:  0.332816530286692\n",
      "\n",
      "\n",
      "max r2 score corresponding to  53  is  0.42279425408152616\n",
      "r2_score corresponding to random state:  84  is:  0.22374495451395504\n",
      "\n",
      "\n",
      "max r2 score corresponding to  53  is  0.42279425408152616\n",
      "r2_score corresponding to random state:  85  is:  0.22870201925749067\n",
      "\n",
      "\n",
      "max r2 score corresponding to  53  is  0.42279425408152616\n",
      "r2_score corresponding to random state:  86  is:  0.3061745947322422\n",
      "\n",
      "\n",
      "max r2 score corresponding to  53  is  0.42279425408152616\n",
      "r2_score corresponding to random state:  87  is:  0.3311117356937816\n",
      "\n",
      "\n",
      "max r2 score corresponding to  53  is  0.42279425408152616\n",
      "r2_score corresponding to random state:  88  is:  0.2563156296565581\n",
      "\n",
      "\n",
      "max r2 score corresponding to  53  is  0.42279425408152616\n",
      "r2_score corresponding to random state:  89  is:  0.21639413290293164\n",
      "\n",
      "\n",
      "max r2 score corresponding to  53  is  0.42279425408152616\n",
      "r2_score corresponding to random state:  90  is:  0.29437999667960324\n",
      "\n",
      "\n",
      "max r2 score corresponding to  53  is  0.42279425408152616\n",
      "r2_score corresponding to random state:  91  is:  0.2384504109062302\n",
      "\n",
      "\n",
      "max r2 score corresponding to  53  is  0.42279425408152616\n",
      "r2_score corresponding to random state:  92  is:  0.27105426670280675\n",
      "\n",
      "\n",
      "max r2 score corresponding to  53  is  0.42279425408152616\n",
      "r2_score corresponding to random state:  93  is:  0.3032308695098519\n",
      "\n",
      "\n",
      "max r2 score corresponding to  53  is  0.42279425408152616\n",
      "r2_score corresponding to random state:  94  is:  0.2930835120100792\n",
      "\n",
      "\n",
      "max r2 score corresponding to  53  is  0.42279425408152616\n",
      "r2_score corresponding to random state:  95  is:  0.1666452157784296\n",
      "\n",
      "\n",
      "max r2 score corresponding to  53  is  0.42279425408152616\n",
      "r2_score corresponding to random state:  96  is:  0.2393019184977737\n",
      "\n",
      "\n",
      "max r2 score corresponding to  53  is  0.42279425408152616\n",
      "r2_score corresponding to random state:  97  is:  0.261512330674448\n",
      "\n",
      "\n",
      "max r2 score corresponding to  53  is  0.42279425408152616\n",
      "r2_score corresponding to random state:  98  is:  0.21739267131270024\n",
      "\n",
      "\n",
      "max r2 score corresponding to  53  is  0.42279425408152616\n",
      "r2_score corresponding to random state:  99  is:  0.17324726676439062\n",
      "\n",
      "\n",
      "max r2 score corresponding to  53  is  0.42279425408152616\n",
      "r2_score corresponding to random state:  100  is:  0.1553334074114443\n",
      "\n",
      "\n",
      "max r2 score corresponding to  53  is  0.42279425408152616\n"
     ]
    }
   ],
   "source": [
    "#r2 score calculation\n",
    "from sklearn.model_selection import train_test_split\n",
    "from sklearn.metrics import mean_absolute_error\n",
    "from sklearn.metrics import mean_squared_error\n",
    "from sklearn.metrics import r2_score\n",
    "from sklearn import linear_model\n",
    "max_r_score=0\n",
    "for r_state in range(42,101):\n",
    "    x_train, x_test, y_train, y_test = train_test_split(x, y, random_state = r_state,test_size=0.20)\n",
    "    regr = linear_model.LinearRegression()\n",
    "    regr.fit(x_train,y_train)\n",
    "    y_pred = regr.predict(x_test)\n",
    "    r2_scr=r2_score(y_test,y_pred)\n",
    "    print(\"r2_score corresponding to random state: \",r_state,\" is: \",r2_scr)\n",
    "    if r2_scr>max_r_score:\n",
    "        max_r_score=r2_scr\n",
    "        final_r_state=r_state\n",
    "        \n",
    "    print()\n",
    "    print()\n",
    "    print(\"max r2 score corresponding to \",final_r_state,\" is \",max_r_score)"
   ]
  },
  {
   "cell_type": "code",
   "execution_count": 38,
   "metadata": {},
   "outputs": [],
   "source": [
    "#Above output shows acceptable r2 score in most cases and maximum score is also displayed."
   ]
  },
  {
   "cell_type": "code",
   "execution_count": 39,
   "metadata": {},
   "outputs": [
    {
     "data": {
      "text/plain": [
       "0.2751018088465768"
      ]
     },
     "execution_count": 39,
     "metadata": {},
     "output_type": "execute_result"
    }
   ],
   "source": [
    "#Cross validation\n",
    "from sklearn.model_selection import cross_val_score\n",
    "cross_val_score(linear_model.LinearRegression(), x, y, cv=5,scoring= \"r2\").mean()\n",
    "#below cross validation score is very less and model needs more improvement"
   ]
  },
  {
   "cell_type": "code",
   "execution_count": 40,
   "metadata": {},
   "outputs": [],
   "source": [
    "#maximum r2 score corresponds to random state 53. So we use it for final model.\n",
    "x_train, x_test, y_train, y_test = train_test_split(x, y, random_state = 53,test_size=0.20)\n",
    "lr = linear_model.LinearRegression()\n",
    "lr.fit(x_train,y_train)\n",
    "y_pred = lr.predict(x_test)\n"
   ]
  },
  {
   "cell_type": "code",
   "execution_count": 41,
   "metadata": {},
   "outputs": [
    {
     "name": "stdout",
     "output_type": "stream",
     "text": [
      "r2 score is:  0.42279425408152616\n",
      "RMSE is :  0.7145731760386113\n"
     ]
    }
   ],
   "source": [
    "from sklearn.metrics import mean_squared_error\n",
    "from sklearn.metrics import r2_score\n",
    "import numpy as np\n",
    "print(\"r2 score is: \",r2_score(y_test,y_pred))\n",
    "print(\"RMSE is : \",np.sqrt(mean_squared_error(y_test,y_pred)))"
   ]
  },
  {
   "cell_type": "code",
   "execution_count": 42,
   "metadata": {},
   "outputs": [
    {
     "name": "stdout",
     "output_type": "stream",
     "text": [
      "Requirement already satisfied: joblib in c:\\users\\sristi\\anaconda3\\lib\\site-packages (0.13.2)\n"
     ]
    },
    {
     "data": {
      "text/plain": [
       "['lr_SBILifeinsurance.pkl']"
      ]
     },
     "execution_count": 42,
     "metadata": {},
     "output_type": "execute_result"
    }
   ],
   "source": [
    "!pip install joblib\n",
    "from sklearn.externals import joblib\n",
    "joblib.dump(lr, \"lr_SBILifeinsurance.pkl\")"
   ]
  },
  {
   "cell_type": "code",
   "execution_count": null,
   "metadata": {},
   "outputs": [],
   "source": []
  },
  {
   "cell_type": "code",
   "execution_count": null,
   "metadata": {},
   "outputs": [],
   "source": []
  },
  {
   "cell_type": "code",
   "execution_count": null,
   "metadata": {},
   "outputs": [],
   "source": []
  },
  {
   "cell_type": "code",
   "execution_count": null,
   "metadata": {},
   "outputs": [],
   "source": []
  },
  {
   "cell_type": "code",
   "execution_count": null,
   "metadata": {},
   "outputs": [],
   "source": []
  },
  {
   "cell_type": "code",
   "execution_count": null,
   "metadata": {},
   "outputs": [],
   "source": []
  },
  {
   "cell_type": "code",
   "execution_count": null,
   "metadata": {},
   "outputs": [],
   "source": []
  },
  {
   "cell_type": "code",
   "execution_count": null,
   "metadata": {},
   "outputs": [],
   "source": []
  },
  {
   "cell_type": "code",
   "execution_count": null,
   "metadata": {},
   "outputs": [],
   "source": []
  },
  {
   "cell_type": "code",
   "execution_count": null,
   "metadata": {},
   "outputs": [],
   "source": []
  },
  {
   "cell_type": "code",
   "execution_count": null,
   "metadata": {},
   "outputs": [],
   "source": []
  },
  {
   "cell_type": "code",
   "execution_count": null,
   "metadata": {},
   "outputs": [],
   "source": []
  },
  {
   "cell_type": "code",
   "execution_count": null,
   "metadata": {},
   "outputs": [],
   "source": []
  },
  {
   "cell_type": "code",
   "execution_count": null,
   "metadata": {},
   "outputs": [],
   "source": []
  },
  {
   "cell_type": "code",
   "execution_count": null,
   "metadata": {},
   "outputs": [],
   "source": []
  },
  {
   "cell_type": "code",
   "execution_count": null,
   "metadata": {},
   "outputs": [],
   "source": []
  },
  {
   "cell_type": "code",
   "execution_count": null,
   "metadata": {},
   "outputs": [],
   "source": []
  },
  {
   "cell_type": "code",
   "execution_count": null,
   "metadata": {},
   "outputs": [],
   "source": []
  },
  {
   "cell_type": "code",
   "execution_count": null,
   "metadata": {},
   "outputs": [],
   "source": []
  },
  {
   "cell_type": "code",
   "execution_count": null,
   "metadata": {},
   "outputs": [],
   "source": []
  },
  {
   "cell_type": "code",
   "execution_count": null,
   "metadata": {},
   "outputs": [],
   "source": []
  },
  {
   "cell_type": "code",
   "execution_count": null,
   "metadata": {},
   "outputs": [],
   "source": []
  },
  {
   "cell_type": "code",
   "execution_count": null,
   "metadata": {},
   "outputs": [],
   "source": []
  },
  {
   "cell_type": "code",
   "execution_count": null,
   "metadata": {},
   "outputs": [],
   "source": []
  },
  {
   "cell_type": "code",
   "execution_count": null,
   "metadata": {},
   "outputs": [],
   "source": []
  },
  {
   "cell_type": "code",
   "execution_count": null,
   "metadata": {},
   "outputs": [],
   "source": []
  },
  {
   "cell_type": "code",
   "execution_count": null,
   "metadata": {},
   "outputs": [],
   "source": []
  },
  {
   "cell_type": "code",
   "execution_count": null,
   "metadata": {},
   "outputs": [],
   "source": []
  },
  {
   "cell_type": "code",
   "execution_count": null,
   "metadata": {},
   "outputs": [],
   "source": []
  },
  {
   "cell_type": "code",
   "execution_count": null,
   "metadata": {},
   "outputs": [],
   "source": []
  },
  {
   "cell_type": "code",
   "execution_count": null,
   "metadata": {},
   "outputs": [],
   "source": []
  },
  {
   "cell_type": "code",
   "execution_count": null,
   "metadata": {},
   "outputs": [],
   "source": []
  },
  {
   "cell_type": "code",
   "execution_count": null,
   "metadata": {},
   "outputs": [],
   "source": []
  },
  {
   "cell_type": "code",
   "execution_count": null,
   "metadata": {},
   "outputs": [],
   "source": []
  },
  {
   "cell_type": "code",
   "execution_count": null,
   "metadata": {},
   "outputs": [],
   "source": []
  },
  {
   "cell_type": "code",
   "execution_count": null,
   "metadata": {},
   "outputs": [],
   "source": []
  },
  {
   "cell_type": "code",
   "execution_count": null,
   "metadata": {},
   "outputs": [],
   "source": []
  },
  {
   "cell_type": "code",
   "execution_count": null,
   "metadata": {},
   "outputs": [],
   "source": []
  },
  {
   "cell_type": "code",
   "execution_count": null,
   "metadata": {},
   "outputs": [],
   "source": []
  },
  {
   "cell_type": "code",
   "execution_count": null,
   "metadata": {},
   "outputs": [],
   "source": []
  },
  {
   "cell_type": "code",
   "execution_count": null,
   "metadata": {},
   "outputs": [],
   "source": []
  },
  {
   "cell_type": "code",
   "execution_count": null,
   "metadata": {},
   "outputs": [],
   "source": []
  },
  {
   "cell_type": "code",
   "execution_count": null,
   "metadata": {},
   "outputs": [],
   "source": []
  },
  {
   "cell_type": "code",
   "execution_count": null,
   "metadata": {},
   "outputs": [],
   "source": []
  },
  {
   "cell_type": "code",
   "execution_count": null,
   "metadata": {},
   "outputs": [],
   "source": []
  },
  {
   "cell_type": "code",
   "execution_count": null,
   "metadata": {},
   "outputs": [],
   "source": []
  },
  {
   "cell_type": "code",
   "execution_count": null,
   "metadata": {},
   "outputs": [],
   "source": []
  },
  {
   "cell_type": "code",
   "execution_count": null,
   "metadata": {},
   "outputs": [],
   "source": []
  },
  {
   "cell_type": "code",
   "execution_count": null,
   "metadata": {},
   "outputs": [],
   "source": []
  },
  {
   "cell_type": "code",
   "execution_count": null,
   "metadata": {},
   "outputs": [],
   "source": []
  },
  {
   "cell_type": "code",
   "execution_count": null,
   "metadata": {},
   "outputs": [],
   "source": []
  },
  {
   "cell_type": "code",
   "execution_count": null,
   "metadata": {},
   "outputs": [],
   "source": []
  },
  {
   "cell_type": "code",
   "execution_count": null,
   "metadata": {},
   "outputs": [],
   "source": []
  },
  {
   "cell_type": "code",
   "execution_count": null,
   "metadata": {},
   "outputs": [],
   "source": []
  },
  {
   "cell_type": "code",
   "execution_count": null,
   "metadata": {},
   "outputs": [],
   "source": []
  },
  {
   "cell_type": "code",
   "execution_count": null,
   "metadata": {},
   "outputs": [],
   "source": []
  },
  {
   "cell_type": "code",
   "execution_count": null,
   "metadata": {},
   "outputs": [],
   "source": []
  },
  {
   "cell_type": "code",
   "execution_count": null,
   "metadata": {},
   "outputs": [],
   "source": []
  },
  {
   "cell_type": "code",
   "execution_count": null,
   "metadata": {},
   "outputs": [],
   "source": []
  },
  {
   "cell_type": "code",
   "execution_count": null,
   "metadata": {},
   "outputs": [],
   "source": []
  },
  {
   "cell_type": "code",
   "execution_count": null,
   "metadata": {},
   "outputs": [],
   "source": []
  },
  {
   "cell_type": "code",
   "execution_count": null,
   "metadata": {},
   "outputs": [],
   "source": []
  },
  {
   "cell_type": "code",
   "execution_count": null,
   "metadata": {},
   "outputs": [],
   "source": []
  },
  {
   "cell_type": "code",
   "execution_count": null,
   "metadata": {},
   "outputs": [],
   "source": []
  },
  {
   "cell_type": "code",
   "execution_count": null,
   "metadata": {},
   "outputs": [],
   "source": []
  },
  {
   "cell_type": "code",
   "execution_count": null,
   "metadata": {},
   "outputs": [],
   "source": []
  },
  {
   "cell_type": "code",
   "execution_count": null,
   "metadata": {},
   "outputs": [],
   "source": []
  },
  {
   "cell_type": "code",
   "execution_count": null,
   "metadata": {},
   "outputs": [],
   "source": []
  },
  {
   "cell_type": "code",
   "execution_count": null,
   "metadata": {},
   "outputs": [],
   "source": []
  },
  {
   "cell_type": "code",
   "execution_count": null,
   "metadata": {},
   "outputs": [],
   "source": []
  }
 ],
 "metadata": {
  "kernelspec": {
   "display_name": "Python 3",
   "language": "python",
   "name": "python3"
  },
  "language_info": {
   "codemirror_mode": {
    "name": "ipython",
    "version": 3
   },
   "file_extension": ".py",
   "mimetype": "text/x-python",
   "name": "python",
   "nbconvert_exporter": "python",
   "pygments_lexer": "ipython3",
   "version": "3.7.4"
  }
 },
 "nbformat": 4,
 "nbformat_minor": 2
}
